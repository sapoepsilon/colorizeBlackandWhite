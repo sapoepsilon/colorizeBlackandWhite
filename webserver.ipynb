{
 "cells": [
  {
   "cell_type": "code",
   "execution_count": 30,
   "id": "5420e4fb-1c22-48d1-9849-6699739423df",
   "metadata": {
    "scrolled": true
   },
   "outputs": [
    {
     "name": "stdout",
     "output_type": "stream",
     "text": [
      "Cloning into 'DeOldify'...\n",
      "remote: Enumerating objects: 2297, done.\u001b[K\n",
      "remote: Counting objects: 100% (69/69), done.\u001b[K\n",
      "remote: Compressing objects: 100% (64/64), done.\u001b[K\n",
      "remote: Total 2297 (delta 33), reused 17 (delta 5), pack-reused 2228\u001b[K\n",
      "Receiving objects: 100% (2297/2297), 69.44 MiB | 1.01 MiB/s, done.\n",
      "Resolving deltas: 100% (1040/1040), done.\n"
     ]
    }
   ],
   "source": [
    "#HIDE\n",
    "!git clone https://github.com/jantic/DeOldify.git DeOldify \n"
   ]
  },
  {
   "cell_type": "code",
   "execution_count": 31,
   "id": "7bd49dd4-c730-4062-b402-e59c90ab33bd",
   "metadata": {},
   "outputs": [
    {
     "name": "stdout",
     "output_type": "stream",
     "text": [
      "/Users/machinegun/DeOldify/deoldify/DeOldify\n"
     ]
    }
   ],
   "source": [
    "cd DeOldify"
   ]
  },
  {
   "cell_type": "code",
   "execution_count": 32,
   "id": "c92eb66f-c509-45ea-b8c3-5c5e1a09cfdb",
   "metadata": {},
   "outputs": [
    {
     "name": "stdout",
     "output_type": "stream",
     "text": [
      "GPU not available.\n"
     ]
    }
   ],
   "source": [
    "#HIDE\n",
    "\n",
    "#NOTE:  This must be the first call in order to work properly!\n",
    "from deoldify import device\n",
    "from deoldify.device_id import DeviceId\n",
    "#choices:  CPU, GPU0...GPU7\n",
    "device.set(device=DeviceId.GPU0)\n",
    "\n",
    "import torch\n",
    "\n",
    "if not torch.cuda.is_available():\n",
    "    print('GPU not available.')"
   ]
  },
  {
   "cell_type": "code",
   "execution_count": 34,
   "id": "0835c606-44aa-4c0b-9f8d-acea96dd0dad",
   "metadata": {},
   "outputs": [
    {
     "name": "stdout",
     "output_type": "stream",
     "text": [
      "Collecting fastai==1.0.51\n",
      "  Using cached fastai-1.0.51-py3-none-any.whl (214 kB)\n",
      "Collecting numexpr\n",
      "  Using cached numexpr-2.7.3-cp39-cp39-macosx_12_0_arm64.whl\n",
      "Requirement already satisfied: scipy in /opt/homebrew/Caskroom/miniforge/base/lib/python3.9/site-packages (from fastai==1.0.51) (1.7.1)\n",
      "Requirement already satisfied: spacy>=2.0.18 in /opt/homebrew/Caskroom/miniforge/base/lib/python3.9/site-packages (from fastai==1.0.51) (3.1.3)\n",
      "Collecting beautifulsoup4\n",
      "  Using cached beautifulsoup4-4.10.0-py3-none-any.whl (97 kB)\n",
      "Requirement already satisfied: packaging in /opt/homebrew/Caskroom/miniforge/base/lib/python3.9/site-packages (from fastai==1.0.51) (21.0)\n",
      "Requirement already satisfied: torchvision in /opt/homebrew/Caskroom/miniforge/base/lib/python3.9/site-packages (from fastai==1.0.51) (0.9.0a0)\n",
      "Collecting nvidia-ml-py3\n",
      "  Using cached nvidia_ml_py3-7.352.0-py3-none-any.whl\n",
      "Requirement already satisfied: matplotlib in /opt/homebrew/Caskroom/miniforge/base/lib/python3.9/site-packages (from fastai==1.0.51) (3.4.3)\n",
      "Requirement already satisfied: fastprogress>=0.1.19 in /opt/homebrew/Caskroom/miniforge/base/lib/python3.9/site-packages (from fastai==1.0.51) (1.0.0)\n",
      "Collecting bottleneck\n",
      "  Using cached Bottleneck-1.3.2-cp39-cp39-macosx_11_0_arm64.whl\n",
      "Requirement already satisfied: typing in /opt/homebrew/Caskroom/miniforge/base/lib/python3.9/site-packages (from fastai==1.0.51) (3.7.4.3)\n",
      "Collecting pynvx>=1.0.0\n",
      "  Using cached pynvx-1.0.0.tar.gz (150 kB)\n",
      "Requirement already satisfied: pandas in /opt/homebrew/Caskroom/miniforge/base/lib/python3.9/site-packages (from fastai==1.0.51) (1.3.3)\n",
      "Requirement already satisfied: Pillow in /opt/homebrew/Caskroom/miniforge/base/lib/python3.9/site-packages (from fastai==1.0.51) (8.3.2)\n",
      "Requirement already satisfied: pyyaml in /opt/homebrew/Caskroom/miniforge/base/lib/python3.9/site-packages (from fastai==1.0.51) (5.4.1)\n",
      "Requirement already satisfied: torch>=1.0.0 in /opt/homebrew/Caskroom/miniforge/base/lib/python3.9/site-packages (from fastai==1.0.51) (1.9.0.post2)\n",
      "Requirement already satisfied: numpy>=1.15 in /opt/homebrew/Caskroom/miniforge/base/lib/python3.9/site-packages (from fastai==1.0.51) (1.21.2)\n",
      "Requirement already satisfied: requests in /opt/homebrew/Caskroom/miniforge/base/lib/python3.9/site-packages (from fastai==1.0.51) (2.26.0)\n",
      "Requirement already satisfied: spacy-legacy<3.1.0,>=3.0.8 in /opt/homebrew/Caskroom/miniforge/base/lib/python3.9/site-packages (from spacy>=2.0.18->fastai==1.0.51) (3.0.8)\n",
      "Requirement already satisfied: wasabi<1.1.0,>=0.8.1 in /opt/homebrew/Caskroom/miniforge/base/lib/python3.9/site-packages (from spacy>=2.0.18->fastai==1.0.51) (0.8.2)\n",
      "Requirement already satisfied: cymem<2.1.0,>=2.0.2 in /opt/homebrew/Caskroom/miniforge/base/lib/python3.9/site-packages (from spacy>=2.0.18->fastai==1.0.51) (2.0.5)\n",
      "Requirement already satisfied: pathy>=0.3.5 in /opt/homebrew/Caskroom/miniforge/base/lib/python3.9/site-packages (from spacy>=2.0.18->fastai==1.0.51) (0.6.0)\n",
      "Requirement already satisfied: jinja2 in /opt/homebrew/Caskroom/miniforge/base/lib/python3.9/site-packages (from spacy>=2.0.18->fastai==1.0.51) (3.0.2)\n",
      "Requirement already satisfied: pydantic!=1.8,!=1.8.1,<1.9.0,>=1.7.4 in /opt/homebrew/Caskroom/miniforge/base/lib/python3.9/site-packages (from spacy>=2.0.18->fastai==1.0.51) (1.8.2)\n",
      "Requirement already satisfied: srsly<3.0.0,>=2.4.1 in /opt/homebrew/Caskroom/miniforge/base/lib/python3.9/site-packages (from spacy>=2.0.18->fastai==1.0.51) (2.4.1)\n",
      "Requirement already satisfied: murmurhash<1.1.0,>=0.28.0 in /opt/homebrew/Caskroom/miniforge/base/lib/python3.9/site-packages (from spacy>=2.0.18->fastai==1.0.51) (1.0.5)\n",
      "Requirement already satisfied: thinc<8.1.0,>=8.0.9 in /opt/homebrew/Caskroom/miniforge/base/lib/python3.9/site-packages (from spacy>=2.0.18->fastai==1.0.51) (8.0.10)\n",
      "Requirement already satisfied: typer<0.5.0,>=0.3.0 in /opt/homebrew/Caskroom/miniforge/base/lib/python3.9/site-packages (from spacy>=2.0.18->fastai==1.0.51) (0.4.0)\n",
      "Requirement already satisfied: setuptools in /opt/homebrew/Caskroom/miniforge/base/lib/python3.9/site-packages (from spacy>=2.0.18->fastai==1.0.51) (58.2.0)\n",
      "Requirement already satisfied: blis<0.8.0,>=0.4.0 in /opt/homebrew/Caskroom/miniforge/base/lib/python3.9/site-packages (from spacy>=2.0.18->fastai==1.0.51) (0.7.4)\n",
      "Requirement already satisfied: tqdm<5.0.0,>=4.38.0 in /opt/homebrew/Caskroom/miniforge/base/lib/python3.9/site-packages (from spacy>=2.0.18->fastai==1.0.51) (4.62.3)\n",
      "Requirement already satisfied: catalogue<2.1.0,>=2.0.6 in /opt/homebrew/Caskroom/miniforge/base/lib/python3.9/site-packages (from spacy>=2.0.18->fastai==1.0.51) (2.0.6)\n",
      "Requirement already satisfied: preshed<3.1.0,>=3.0.2 in /opt/homebrew/Caskroom/miniforge/base/lib/python3.9/site-packages (from spacy>=2.0.18->fastai==1.0.51) (3.0.5)\n",
      "Requirement already satisfied: pyparsing>=2.0.2 in /opt/homebrew/Caskroom/miniforge/base/lib/python3.9/site-packages (from packaging->fastai==1.0.51) (2.4.7)\n",
      "Requirement already satisfied: smart-open<6.0.0,>=5.0.0 in /opt/homebrew/Caskroom/miniforge/base/lib/python3.9/site-packages (from pathy>=0.3.5->spacy>=2.0.18->fastai==1.0.51) (5.2.1)\n",
      "Requirement already satisfied: typing-extensions>=3.7.4.3 in /opt/homebrew/Caskroom/miniforge/base/lib/python3.9/site-packages (from pydantic!=1.8,!=1.8.1,<1.9.0,>=1.7.4->spacy>=2.0.18->fastai==1.0.51) (3.10.0.2)\n",
      "Requirement already satisfied: certifi>=2017.4.17 in /opt/homebrew/Caskroom/miniforge/base/lib/python3.9/site-packages (from requests->fastai==1.0.51) (2021.10.8)\n",
      "Requirement already satisfied: urllib3<1.27,>=1.21.1 in /opt/homebrew/Caskroom/miniforge/base/lib/python3.9/site-packages (from requests->fastai==1.0.51) (1.26.7)\n",
      "Requirement already satisfied: charset-normalizer~=2.0.0 in /opt/homebrew/Caskroom/miniforge/base/lib/python3.9/site-packages (from requests->fastai==1.0.51) (2.0.0)\n",
      "Requirement already satisfied: idna<4,>=2.5 in /opt/homebrew/Caskroom/miniforge/base/lib/python3.9/site-packages (from requests->fastai==1.0.51) (3.1)\n",
      "Requirement already satisfied: click<9.0.0,>=7.1.1 in /opt/homebrew/Caskroom/miniforge/base/lib/python3.9/site-packages (from typer<0.5.0,>=0.3.0->spacy>=2.0.18->fastai==1.0.51) (8.0.2)\n",
      "Requirement already satisfied: soupsieve>1.2 in /opt/homebrew/Caskroom/miniforge/base/lib/python3.9/site-packages (from beautifulsoup4->fastai==1.0.51) (2.3.1)\n",
      "Requirement already satisfied: MarkupSafe>=2.0 in /opt/homebrew/Caskroom/miniforge/base/lib/python3.9/site-packages (from jinja2->spacy>=2.0.18->fastai==1.0.51) (2.0.1)\n",
      "Requirement already satisfied: kiwisolver>=1.0.1 in /opt/homebrew/Caskroom/miniforge/base/lib/python3.9/site-packages (from matplotlib->fastai==1.0.51) (1.3.2)\n",
      "Requirement already satisfied: python-dateutil>=2.7 in /opt/homebrew/Caskroom/miniforge/base/lib/python3.9/site-packages (from matplotlib->fastai==1.0.51) (2.8.2)\n",
      "Requirement already satisfied: cycler>=0.10 in /opt/homebrew/Caskroom/miniforge/base/lib/python3.9/site-packages (from matplotlib->fastai==1.0.51) (0.10.0)\n",
      "Requirement already satisfied: six in /opt/homebrew/Caskroom/miniforge/base/lib/python3.9/site-packages (from cycler>=0.10->matplotlib->fastai==1.0.51) (1.16.0)\n",
      "Requirement already satisfied: pytz>=2017.3 in /opt/homebrew/Caskroom/miniforge/base/lib/python3.9/site-packages (from pandas->fastai==1.0.51) (2021.3)\n",
      "Building wheels for collected packages: pynvx\n",
      "  Building wheel for pynvx (setup.py) ... \u001b[?25lerror\n",
      "\u001b[31m  ERROR: Command errored out with exit status 1:\n",
      "   command: /opt/homebrew/Caskroom/miniforge/base/bin/python3.9 -u -c 'import io, os, sys, setuptools, tokenize; sys.argv[0] = '\"'\"'/private/var/folders/76/2lcqcxks4m5_cfh5tv2n14c40000gn/T/pip-install-8fue16n6/pynvx_05412741e828417ab204e0cb34da480e/setup.py'\"'\"'; __file__='\"'\"'/private/var/folders/76/2lcqcxks4m5_cfh5tv2n14c40000gn/T/pip-install-8fue16n6/pynvx_05412741e828417ab204e0cb34da480e/setup.py'\"'\"';f = getattr(tokenize, '\"'\"'open'\"'\"', open)(__file__) if os.path.exists(__file__) else io.StringIO('\"'\"'from setuptools import setup; setup()'\"'\"');code = f.read().replace('\"'\"'\\r\\n'\"'\"', '\"'\"'\\n'\"'\"');f.close();exec(compile(code, __file__, '\"'\"'exec'\"'\"'))' bdist_wheel -d /private/var/folders/76/2lcqcxks4m5_cfh5tv2n14c40000gn/T/pip-wheel-cog74_iy\n",
      "       cwd: /private/var/folders/76/2lcqcxks4m5_cfh5tv2n14c40000gn/T/pip-install-8fue16n6/pynvx_05412741e828417ab204e0cb34da480e/\n",
      "  Complete output (69 lines):\n",
      "  running bdist_wheel\n",
      "  running build\n",
      "  running build_py\n",
      "  creating build\n",
      "  creating build/lib.macosx-11.0-arm64-3.9\n",
      "  creating build/lib.macosx-11.0-arm64-3.9/pynvx\n",
      "  copying pynvx/pynvml.py -> build/lib.macosx-11.0-arm64-3.9/pynvx\n",
      "  copying pynvx/__init__.py -> build/lib.macosx-11.0-arm64-3.9/pynvx\n",
      "  running build_ext\n",
      "  -- The C compiler identification is AppleClang 13.0.0.13000029\n",
      "  -- The CXX compiler identification is AppleClang 13.0.0.13000029\n",
      "  -- Detecting C compiler ABI info\n",
      "  -- Detecting C compiler ABI info - done\n",
      "  -- Check for working C compiler: /Applications/Xcode.app/Contents/Developer/Toolchains/XcodeDefault.xctoolchain/usr/bin/cc - skipped\n",
      "  -- Detecting C compile features\n",
      "  -- Detecting C compile features - done\n",
      "  -- Detecting CXX compiler ABI info\n",
      "  -- Detecting CXX compiler ABI info - done\n",
      "  -- Check for working CXX compiler: /Applications/Xcode.app/Contents/Developer/Toolchains/XcodeDefault.xctoolchain/usr/bin/c++ - skipped\n",
      "  -- Detecting CXX compile features\n",
      "  -- Detecting CXX compile features - done\n",
      "  -- Found PythonInterp: /opt/homebrew/Caskroom/miniforge/base/bin/python3.9 (found version \"3.9.6\")\n",
      "  -- Found PythonLibs: /opt/homebrew/Caskroom/miniforge/base/lib/libpython3.9.dylib\n",
      "  -- Performing Test HAS_CPP14_FLAG\n",
      "  -- Performing Test HAS_CPP14_FLAG - Success\n",
      "  -- pybind11 v2.3.dev0\n",
      "  -- Performing Test HAS_FLTO\n",
      "  -- Performing Test HAS_FLTO - Success\n",
      "  -- LTO enabled\n",
      "  CMake Error at /opt/local/share/cmake-3.21/Modules/FindCUDA.cmake:859 (message):\n",
      "    Specify CUDA_TOOLKIT_ROOT_DIR\n",
      "  Call Stack (most recent call first):\n",
      "    CMakeLists.txt:8 (find_package)\n",
      "  \n",
      "  \n",
      "  -- Configuring incomplete, errors occurred!\n",
      "  See also \"/private/var/folders/76/2lcqcxks4m5_cfh5tv2n14c40000gn/T/pip-install-8fue16n6/pynvx_05412741e828417ab204e0cb34da480e/build/temp.macosx-11.0-arm64-3.9/CMakeFiles/CMakeOutput.log\".\n",
      "  See also \"/private/var/folders/76/2lcqcxks4m5_cfh5tv2n14c40000gn/T/pip-install-8fue16n6/pynvx_05412741e828417ab204e0cb34da480e/build/temp.macosx-11.0-arm64-3.9/CMakeFiles/CMakeError.log\".\n",
      "  Traceback (most recent call last):\n",
      "    File \"<string>\", line 1, in <module>\n",
      "    File \"/private/var/folders/76/2lcqcxks4m5_cfh5tv2n14c40000gn/T/pip-install-8fue16n6/pynvx_05412741e828417ab204e0cb34da480e/setup.py\", line 68, in <module>\n",
      "      setup(\n",
      "    File \"/opt/homebrew/Caskroom/miniforge/base/lib/python3.9/site-packages/setuptools/__init__.py\", line 153, in setup\n",
      "      return distutils.core.setup(**attrs)\n",
      "    File \"/opt/homebrew/Caskroom/miniforge/base/lib/python3.9/distutils/core.py\", line 148, in setup\n",
      "      dist.run_commands()\n",
      "    File \"/opt/homebrew/Caskroom/miniforge/base/lib/python3.9/distutils/dist.py\", line 966, in run_commands\n",
      "      self.run_command(cmd)\n",
      "    File \"/opt/homebrew/Caskroom/miniforge/base/lib/python3.9/distutils/dist.py\", line 985, in run_command\n",
      "      cmd_obj.run()\n",
      "    File \"/opt/homebrew/Caskroom/miniforge/base/lib/python3.9/site-packages/wheel/bdist_wheel.py\", line 299, in run\n",
      "      self.run_command('build')\n",
      "    File \"/opt/homebrew/Caskroom/miniforge/base/lib/python3.9/distutils/cmd.py\", line 313, in run_command\n",
      "      self.distribution.run_command(command)\n",
      "    File \"/opt/homebrew/Caskroom/miniforge/base/lib/python3.9/distutils/dist.py\", line 985, in run_command\n",
      "      cmd_obj.run()\n",
      "    File \"/opt/homebrew/Caskroom/miniforge/base/lib/python3.9/distutils/command/build.py\", line 135, in run\n",
      "      self.run_command(cmd_name)\n",
      "    File \"/opt/homebrew/Caskroom/miniforge/base/lib/python3.9/distutils/cmd.py\", line 313, in run_command\n",
      "      self.distribution.run_command(command)\n",
      "    File \"/opt/homebrew/Caskroom/miniforge/base/lib/python3.9/distutils/dist.py\", line 985, in run_command\n",
      "      cmd_obj.run()\n",
      "    File \"/private/var/folders/76/2lcqcxks4m5_cfh5tv2n14c40000gn/T/pip-install-8fue16n6/pynvx_05412741e828417ab204e0cb34da480e/setup.py\", line 32, in run\n",
      "      self.build_extension(ext)\n",
      "    File \"/private/var/folders/76/2lcqcxks4m5_cfh5tv2n14c40000gn/T/pip-install-8fue16n6/pynvx_05412741e828417ab204e0cb34da480e/setup.py\", line 56, in build_extension\n",
      "      subprocess.check_call(['cmake', ext.sourcedir] + cmake_args, cwd=self.build_temp, env=env)\n",
      "    File \"/opt/homebrew/Caskroom/miniforge/base/lib/python3.9/subprocess.py\", line 373, in check_call\n",
      "      raise CalledProcessError(retcode, cmd)\n",
      "  subprocess.CalledProcessError: Command '['cmake', '/private/var/folders/76/2lcqcxks4m5_cfh5tv2n14c40000gn/T/pip-install-8fue16n6/pynvx_05412741e828417ab204e0cb34da480e', '-DCMAKE_LIBRARY_OUTPUT_DIRECTORY=/private/var/folders/76/2lcqcxks4m5_cfh5tv2n14c40000gn/T/pip-install-8fue16n6/pynvx_05412741e828417ab204e0cb34da480e/build/lib.macosx-11.0-arm64-3.9', '-DPYTHON_EXECUTABLE=/opt/homebrew/Caskroom/miniforge/base/bin/python3.9', '-DCMAKE_BUILD_TYPE=Release']' returned non-zero exit status 1.\n",
      "  ----------------------------------------\u001b[0m\n",
      "\u001b[31m  ERROR: Failed building wheel for pynvx\u001b[0m\n",
      "\u001b[?25h  Running setup.py clean for pynvx\n"
     ]
    },
    {
     "name": "stdout",
     "output_type": "stream",
     "text": [
      "Failed to build pynvx\n",
      "Installing collected packages: pynvx, nvidia-ml-py3, numexpr, bottleneck, beautifulsoup4, fastai\n",
      "    Running setup.py install for pynvx ... \u001b[?25lerror\n",
      "\u001b[31m    ERROR: Command errored out with exit status 1:\n",
      "     command: /opt/homebrew/Caskroom/miniforge/base/bin/python3.9 -u -c 'import io, os, sys, setuptools, tokenize; sys.argv[0] = '\"'\"'/private/var/folders/76/2lcqcxks4m5_cfh5tv2n14c40000gn/T/pip-install-8fue16n6/pynvx_05412741e828417ab204e0cb34da480e/setup.py'\"'\"'; __file__='\"'\"'/private/var/folders/76/2lcqcxks4m5_cfh5tv2n14c40000gn/T/pip-install-8fue16n6/pynvx_05412741e828417ab204e0cb34da480e/setup.py'\"'\"';f = getattr(tokenize, '\"'\"'open'\"'\"', open)(__file__) if os.path.exists(__file__) else io.StringIO('\"'\"'from setuptools import setup; setup()'\"'\"');code = f.read().replace('\"'\"'\\r\\n'\"'\"', '\"'\"'\\n'\"'\"');f.close();exec(compile(code, __file__, '\"'\"'exec'\"'\"'))' install --record /private/var/folders/76/2lcqcxks4m5_cfh5tv2n14c40000gn/T/pip-record-7nld15tk/install-record.txt --single-version-externally-managed --compile --install-headers /opt/homebrew/Caskroom/miniforge/base/include/python3.9/pynvx\n",
      "         cwd: /private/var/folders/76/2lcqcxks4m5_cfh5tv2n14c40000gn/T/pip-install-8fue16n6/pynvx_05412741e828417ab204e0cb34da480e/\n",
      "    Complete output (71 lines):\n",
      "    running install\n",
      "    running build\n",
      "    running build_py\n",
      "    creating build\n",
      "    creating build/lib.macosx-11.0-arm64-3.9\n",
      "    creating build/lib.macosx-11.0-arm64-3.9/pynvx\n",
      "    copying pynvx/pynvml.py -> build/lib.macosx-11.0-arm64-3.9/pynvx\n",
      "    copying pynvx/__init__.py -> build/lib.macosx-11.0-arm64-3.9/pynvx\n",
      "    running build_ext\n",
      "    -- The C compiler identification is AppleClang 13.0.0.13000029\n",
      "    -- The CXX compiler identification is AppleClang 13.0.0.13000029\n",
      "    -- Detecting C compiler ABI info\n",
      "    -- Detecting C compiler ABI info - done\n",
      "    -- Check for working C compiler: /Applications/Xcode.app/Contents/Developer/Toolchains/XcodeDefault.xctoolchain/usr/bin/cc - skipped\n",
      "    -- Detecting C compile features\n",
      "    -- Detecting C compile features - done\n",
      "    -- Detecting CXX compiler ABI info\n",
      "    -- Detecting CXX compiler ABI info - done\n",
      "    -- Check for working CXX compiler: /Applications/Xcode.app/Contents/Developer/Toolchains/XcodeDefault.xctoolchain/usr/bin/c++ - skipped\n",
      "    -- Detecting CXX compile features\n",
      "    -- Detecting CXX compile features - done\n",
      "    -- Found PythonInterp: /opt/homebrew/Caskroom/miniforge/base/bin/python3.9 (found version \"3.9.6\")\n",
      "    -- Found PythonLibs: /opt/homebrew/Caskroom/miniforge/base/lib/libpython3.9.dylib\n",
      "    -- Performing Test HAS_CPP14_FLAG\n",
      "    -- Performing Test HAS_CPP14_FLAG - Success\n",
      "    -- pybind11 v2.3.dev0\n",
      "    -- Performing Test HAS_FLTO\n",
      "    -- Performing Test HAS_FLTO - Success\n",
      "    -- LTO enabled\n",
      "    CMake Error at /opt/local/share/cmake-3.21/Modules/FindCUDA.cmake:859 (message):\n",
      "      Specify CUDA_TOOLKIT_ROOT_DIR\n",
      "    Call Stack (most recent call first):\n",
      "      CMakeLists.txt:8 (find_package)\n",
      "    \n",
      "    \n",
      "    -- Configuring incomplete, errors occurred!\n",
      "    See also \"/private/var/folders/76/2lcqcxks4m5_cfh5tv2n14c40000gn/T/pip-install-8fue16n6/pynvx_05412741e828417ab204e0cb34da480e/build/temp.macosx-11.0-arm64-3.9/CMakeFiles/CMakeOutput.log\".\n",
      "    See also \"/private/var/folders/76/2lcqcxks4m5_cfh5tv2n14c40000gn/T/pip-install-8fue16n6/pynvx_05412741e828417ab204e0cb34da480e/build/temp.macosx-11.0-arm64-3.9/CMakeFiles/CMakeError.log\".\n",
      "    Traceback (most recent call last):\n",
      "      File \"<string>\", line 1, in <module>\n",
      "      File \"/private/var/folders/76/2lcqcxks4m5_cfh5tv2n14c40000gn/T/pip-install-8fue16n6/pynvx_05412741e828417ab204e0cb34da480e/setup.py\", line 68, in <module>\n",
      "        setup(\n",
      "      File \"/opt/homebrew/Caskroom/miniforge/base/lib/python3.9/site-packages/setuptools/__init__.py\", line 153, in setup\n",
      "        return distutils.core.setup(**attrs)\n",
      "      File \"/opt/homebrew/Caskroom/miniforge/base/lib/python3.9/distutils/core.py\", line 148, in setup\n",
      "        dist.run_commands()\n",
      "      File \"/opt/homebrew/Caskroom/miniforge/base/lib/python3.9/distutils/dist.py\", line 966, in run_commands\n",
      "        self.run_command(cmd)\n",
      "      File \"/opt/homebrew/Caskroom/miniforge/base/lib/python3.9/distutils/dist.py\", line 985, in run_command\n",
      "        cmd_obj.run()\n",
      "      File \"/opt/homebrew/Caskroom/miniforge/base/lib/python3.9/site-packages/setuptools/command/install.py\", line 61, in run\n",
      "        return orig.install.run(self)\n",
      "      File \"/opt/homebrew/Caskroom/miniforge/base/lib/python3.9/distutils/command/install.py\", line 546, in run\n",
      "        self.run_command('build')\n",
      "      File \"/opt/homebrew/Caskroom/miniforge/base/lib/python3.9/distutils/cmd.py\", line 313, in run_command\n",
      "        self.distribution.run_command(command)\n",
      "      File \"/opt/homebrew/Caskroom/miniforge/base/lib/python3.9/distutils/dist.py\", line 985, in run_command\n",
      "        cmd_obj.run()\n",
      "      File \"/opt/homebrew/Caskroom/miniforge/base/lib/python3.9/distutils/command/build.py\", line 135, in run\n",
      "        self.run_command(cmd_name)\n",
      "      File \"/opt/homebrew/Caskroom/miniforge/base/lib/python3.9/distutils/cmd.py\", line 313, in run_command\n",
      "        self.distribution.run_command(command)\n",
      "      File \"/opt/homebrew/Caskroom/miniforge/base/lib/python3.9/distutils/dist.py\", line 985, in run_command\n",
      "        cmd_obj.run()\n",
      "      File \"/private/var/folders/76/2lcqcxks4m5_cfh5tv2n14c40000gn/T/pip-install-8fue16n6/pynvx_05412741e828417ab204e0cb34da480e/setup.py\", line 32, in run\n",
      "        self.build_extension(ext)\n",
      "      File \"/private/var/folders/76/2lcqcxks4m5_cfh5tv2n14c40000gn/T/pip-install-8fue16n6/pynvx_05412741e828417ab204e0cb34da480e/setup.py\", line 56, in build_extension\n",
      "        subprocess.check_call(['cmake', ext.sourcedir] + cmake_args, cwd=self.build_temp, env=env)\n",
      "      File \"/opt/homebrew/Caskroom/miniforge/base/lib/python3.9/subprocess.py\", line 373, in check_call\n",
      "        raise CalledProcessError(retcode, cmd)\n",
      "    subprocess.CalledProcessError: Command '['cmake', '/private/var/folders/76/2lcqcxks4m5_cfh5tv2n14c40000gn/T/pip-install-8fue16n6/pynvx_05412741e828417ab204e0cb34da480e', '-DCMAKE_LIBRARY_OUTPUT_DIRECTORY=/private/var/folders/76/2lcqcxks4m5_cfh5tv2n14c40000gn/T/pip-install-8fue16n6/pynvx_05412741e828417ab204e0cb34da480e/build/lib.macosx-11.0-arm64-3.9', '-DPYTHON_EXECUTABLE=/opt/homebrew/Caskroom/miniforge/base/bin/python3.9', '-DCMAKE_BUILD_TYPE=Release']' returned non-zero exit status 1.\n",
      "    ----------------------------------------\u001b[0m\n",
      "\u001b[31mERROR: Command errored out with exit status 1: /opt/homebrew/Caskroom/miniforge/base/bin/python3.9 -u -c 'import io, os, sys, setuptools, tokenize; sys.argv[0] = '\"'\"'/private/var/folders/76/2lcqcxks4m5_cfh5tv2n14c40000gn/T/pip-install-8fue16n6/pynvx_05412741e828417ab204e0cb34da480e/setup.py'\"'\"'; __file__='\"'\"'/private/var/folders/76/2lcqcxks4m5_cfh5tv2n14c40000gn/T/pip-install-8fue16n6/pynvx_05412741e828417ab204e0cb34da480e/setup.py'\"'\"';f = getattr(tokenize, '\"'\"'open'\"'\"', open)(__file__) if os.path.exists(__file__) else io.StringIO('\"'\"'from setuptools import setup; setup()'\"'\"');code = f.read().replace('\"'\"'\\r\\n'\"'\"', '\"'\"'\\n'\"'\"');f.close();exec(compile(code, __file__, '\"'\"'exec'\"'\"'))' install --record /private/var/folders/76/2lcqcxks4m5_cfh5tv2n14c40000gn/T/pip-record-7nld15tk/install-record.txt --single-version-externally-managed --compile --install-headers /opt/homebrew/Caskroom/miniforge/base/include/python3.9/pynvx Check the logs for full command output.\u001b[0m\n",
      "\u001b[?25hRequirement already satisfied: tensorboardX==1.6 in /opt/homebrew/Caskroom/miniforge/base/lib/python3.9/site-packages (1.6)\n",
      "Requirement already satisfied: six in /opt/homebrew/Caskroom/miniforge/base/lib/python3.9/site-packages (from tensorboardX==1.6) (1.16.0)\n",
      "Requirement already satisfied: protobuf>=3.2.0 in /opt/homebrew/Caskroom/miniforge/base/lib/python3.9/site-packages (from tensorboardX==1.6) (3.19.1)\n",
      "Requirement already satisfied: numpy in /opt/homebrew/Caskroom/miniforge/base/lib/python3.9/site-packages (from tensorboardX==1.6) (1.21.2)\n",
      "Requirement already satisfied: ffmpeg-python in /opt/homebrew/Caskroom/miniforge/base/lib/python3.9/site-packages (0.2.0)\n",
      "Requirement already satisfied: future in /opt/homebrew/Caskroom/miniforge/base/lib/python3.9/site-packages (from ffmpeg-python) (0.18.2)\n"
     ]
    },
    {
     "name": "stdout",
     "output_type": "stream",
     "text": [
      "zsh:1: 2019.4.17 not found\n",
      "zsh:1: 3.3.0.10 not found\n",
      "Requirement already satisfied: pillow in /opt/homebrew/Caskroom/miniforge/base/lib/python3.9/site-packages (8.3.2)\n",
      "Requirement already satisfied: tornado~=5.1.0 in /opt/homebrew/Caskroom/miniforge/base/lib/python3.9/site-packages (5.1.1)\n",
      "Requirement already satisfied: tornado in /opt/homebrew/Caskroom/miniforge/base/lib/python3.9/site-packages (5.1.1)\n",
      "Requirement already satisfied: wandb in /opt/homebrew/Caskroom/miniforge/base/lib/python3.9/site-packages (0.12.6)\n",
      "Requirement already satisfied: python-dateutil>=2.6.1 in /opt/homebrew/Caskroom/miniforge/base/lib/python3.9/site-packages (from wandb) (2.8.2)\n",
      "Requirement already satisfied: shortuuid>=0.5.0 in /opt/homebrew/Caskroom/miniforge/base/lib/python3.9/site-packages (from wandb) (1.0.8)\n",
      "Requirement already satisfied: promise<3,>=2.0 in /opt/homebrew/Caskroom/miniforge/base/lib/python3.9/site-packages (from wandb) (2.3)\n",
      "Requirement already satisfied: requests<3,>=2.0.0 in /opt/homebrew/Caskroom/miniforge/base/lib/python3.9/site-packages (from wandb) (2.26.0)\n",
      "Requirement already satisfied: docker-pycreds>=0.4.0 in /opt/homebrew/Caskroom/miniforge/base/lib/python3.9/site-packages (from wandb) (0.4.0)\n",
      "Requirement already satisfied: configparser>=3.8.1 in /opt/homebrew/Caskroom/miniforge/base/lib/python3.9/site-packages (from wandb) (5.1.0)\n",
      "Requirement already satisfied: PyYAML in /opt/homebrew/Caskroom/miniforge/base/lib/python3.9/site-packages (from wandb) (5.4.1)\n",
      "Requirement already satisfied: protobuf>=3.12.0 in /opt/homebrew/Caskroom/miniforge/base/lib/python3.9/site-packages (from wandb) (3.19.1)\n",
      "Requirement already satisfied: six>=1.13.0 in /opt/homebrew/Caskroom/miniforge/base/lib/python3.9/site-packages (from wandb) (1.16.0)\n",
      "Requirement already satisfied: sentry-sdk>=1.0.0 in /opt/homebrew/Caskroom/miniforge/base/lib/python3.9/site-packages (from wandb) (1.4.3)\n",
      "Requirement already satisfied: pathtools in /opt/homebrew/Caskroom/miniforge/base/lib/python3.9/site-packages (from wandb) (0.1.2)\n",
      "Requirement already satisfied: yaspin>=1.0.0 in /opt/homebrew/Caskroom/miniforge/base/lib/python3.9/site-packages (from wandb) (2.1.0)\n",
      "Requirement already satisfied: GitPython>=1.0.0 in /opt/homebrew/Caskroom/miniforge/base/lib/python3.9/site-packages (from wandb) (3.1.24)\n",
      "Requirement already satisfied: Click!=8.0.0,>=7.0 in /opt/homebrew/Caskroom/miniforge/base/lib/python3.9/site-packages (from wandb) (8.0.2)\n",
      "Requirement already satisfied: subprocess32>=3.5.3 in /opt/homebrew/Caskroom/miniforge/base/lib/python3.9/site-packages (from wandb) (3.5.4)\n",
      "Requirement already satisfied: psutil>=5.0.0 in /opt/homebrew/Caskroom/miniforge/base/lib/python3.9/site-packages (from wandb) (5.8.0)\n",
      "Requirement already satisfied: typing-extensions>=3.7.4.3 in /opt/homebrew/Caskroom/miniforge/base/lib/python3.9/site-packages (from GitPython>=1.0.0->wandb) (3.10.0.2)\n",
      "Requirement already satisfied: gitdb<5,>=4.0.1 in /opt/homebrew/Caskroom/miniforge/base/lib/python3.9/site-packages (from GitPython>=1.0.0->wandb) (4.0.9)\n",
      "Requirement already satisfied: smmap<6,>=3.0.1 in /opt/homebrew/Caskroom/miniforge/base/lib/python3.9/site-packages (from gitdb<5,>=4.0.1->GitPython>=1.0.0->wandb) (5.0.0)\n",
      "Requirement already satisfied: urllib3<1.27,>=1.21.1 in /opt/homebrew/Caskroom/miniforge/base/lib/python3.9/site-packages (from requests<3,>=2.0.0->wandb) (1.26.7)\n",
      "Requirement already satisfied: certifi>=2017.4.17 in /opt/homebrew/Caskroom/miniforge/base/lib/python3.9/site-packages (from requests<3,>=2.0.0->wandb) (2021.10.8)\n",
      "Requirement already satisfied: charset-normalizer~=2.0.0 in /opt/homebrew/Caskroom/miniforge/base/lib/python3.9/site-packages (from requests<3,>=2.0.0->wandb) (2.0.0)\n",
      "Requirement already satisfied: idna<4,>=2.5 in /opt/homebrew/Caskroom/miniforge/base/lib/python3.9/site-packages (from requests<3,>=2.0.0->wandb) (3.1)\n",
      "Requirement already satisfied: termcolor<2.0.0,>=1.1.0 in /opt/homebrew/Caskroom/miniforge/base/lib/python3.9/site-packages (from yaspin>=1.0.0->wandb) (1.1.0)\n"
     ]
    }
   ],
   "source": [
    "#HIDE\n",
    "!pip install fastai==1.0.51\n",
    "!pip install tensorboardX==1.6\n",
    "!pip install ffmpeg-python\n",
    "!pip install youtube-dl>=2019.4.17\n",
    "!pip install opencv-python>=3.3.0.10\n",
    "!pip install pillow\n",
    "!pip install tornado~=5.1.0\n",
    "!pip install tornado wandb\n",
    "\n",
    "\n"
   ]
  },
  {
   "cell_type": "code",
   "execution_count": 8,
   "id": "16c300a6-f1e0-4f79-9f9c-f9be7e6aab8c",
   "metadata": {},
   "outputs": [
    {
     "ename": "ModuleNotFoundError",
     "evalue": "No module named 'fastai.core'",
     "output_type": "error",
     "traceback": [
      "\u001b[0;31m---------------------------------------------------------------------------\u001b[0m",
      "\u001b[0;31mModuleNotFoundError\u001b[0m                       Traceback (most recent call last)",
      "\u001b[0;32m/var/folders/76/2lcqcxks4m5_cfh5tv2n14c40000gn/T/ipykernel_15439/166892078.py\u001b[0m in \u001b[0;36m<module>\u001b[0;34m\u001b[0m\n\u001b[1;32m      1\u001b[0m \u001b[0;32mimport\u001b[0m \u001b[0mfastai\u001b[0m\u001b[0;34m\u001b[0m\u001b[0;34m\u001b[0m\u001b[0m\n\u001b[0;32m----> 2\u001b[0;31m \u001b[0;32mfrom\u001b[0m \u001b[0mdeoldify\u001b[0m\u001b[0;34m.\u001b[0m\u001b[0mvisualize\u001b[0m \u001b[0;32mimport\u001b[0m \u001b[0;34m*\u001b[0m\u001b[0;34m\u001b[0m\u001b[0;34m\u001b[0m\u001b[0m\n\u001b[0m\u001b[1;32m      3\u001b[0m \u001b[0;32mimport\u001b[0m \u001b[0mwarnings\u001b[0m\u001b[0;34m\u001b[0m\u001b[0;34m\u001b[0m\u001b[0m\n\u001b[1;32m      4\u001b[0m \u001b[0mwarnings\u001b[0m\u001b[0;34m.\u001b[0m\u001b[0mfilterwarnings\u001b[0m\u001b[0;34m(\u001b[0m\u001b[0;34m\"ignore\"\u001b[0m\u001b[0;34m,\u001b[0m \u001b[0mcategory\u001b[0m\u001b[0;34m=\u001b[0m\u001b[0mUserWarning\u001b[0m\u001b[0;34m,\u001b[0m \u001b[0mmessage\u001b[0m\u001b[0;34m=\u001b[0m\u001b[0;34m\".*?Your .*? set is empty.*?\"\u001b[0m\u001b[0;34m)\u001b[0m\u001b[0;34m\u001b[0m\u001b[0;34m\u001b[0m\u001b[0m\n",
      "\u001b[0;32m~/DeOldify/deoldify/visualize.py\u001b[0m in \u001b[0;36m<module>\u001b[0;34m\u001b[0m\n\u001b[0;32m----> 1\u001b[0;31m \u001b[0;32mfrom\u001b[0m \u001b[0mfastai\u001b[0m\u001b[0;34m.\u001b[0m\u001b[0mcore\u001b[0m \u001b[0;32mimport\u001b[0m \u001b[0;34m*\u001b[0m\u001b[0;34m\u001b[0m\u001b[0;34m\u001b[0m\u001b[0m\n\u001b[0m\u001b[1;32m      2\u001b[0m \u001b[0;32mfrom\u001b[0m \u001b[0mfastai\u001b[0m\u001b[0;34m.\u001b[0m\u001b[0mvision\u001b[0m \u001b[0;32mimport\u001b[0m \u001b[0;34m*\u001b[0m\u001b[0;34m\u001b[0m\u001b[0;34m\u001b[0m\u001b[0m\n\u001b[1;32m      3\u001b[0m \u001b[0;32mfrom\u001b[0m \u001b[0mmatplotlib\u001b[0m\u001b[0;34m.\u001b[0m\u001b[0maxes\u001b[0m \u001b[0;32mimport\u001b[0m \u001b[0mAxes\u001b[0m\u001b[0;34m\u001b[0m\u001b[0;34m\u001b[0m\u001b[0m\n\u001b[1;32m      4\u001b[0m \u001b[0;32mfrom\u001b[0m \u001b[0mmatplotlib\u001b[0m\u001b[0;34m.\u001b[0m\u001b[0mfigure\u001b[0m \u001b[0;32mimport\u001b[0m \u001b[0mFigure\u001b[0m\u001b[0;34m\u001b[0m\u001b[0;34m\u001b[0m\u001b[0m\n\u001b[1;32m      5\u001b[0m \u001b[0;32mfrom\u001b[0m \u001b[0mmatplotlib\u001b[0m\u001b[0;34m.\u001b[0m\u001b[0mbackends\u001b[0m\u001b[0;34m.\u001b[0m\u001b[0mbackend_agg\u001b[0m \u001b[0;32mimport\u001b[0m \u001b[0mFigureCanvasAgg\u001b[0m \u001b[0;32mas\u001b[0m \u001b[0mFigureCanvas\u001b[0m\u001b[0;34m\u001b[0m\u001b[0;34m\u001b[0m\u001b[0m\n",
      "\u001b[0;31mModuleNotFoundError\u001b[0m: No module named 'fastai.core'"
     ]
    }
   ],
   "source": [
    "#HIDE\n",
    "\n",
    "import fastai\n",
    "from deoldify.visualize import *\n",
    "import warnings\n",
    "warnings.filterwarnings(\"ignore\", category=UserWarning, message=\".*?Your .*? set is empty.*?\")"
   ]
  },
  {
   "cell_type": "code",
   "execution_count": 9,
   "id": "da55806e-5c4d-4ee5-a86d-2472867700ac",
   "metadata": {},
   "outputs": [
    {
     "name": "stdout",
     "output_type": "stream",
     "text": [
      "--2021-11-16 22:45:52--  https://data.deepai.org/deoldify/ColorizeArtistic_gen.pth\n",
      "Resolving data.deepai.org (data.deepai.org)... 138.201.36.183\n",
      "Connecting to data.deepai.org (data.deepai.org)|138.201.36.183|:443... connected.\n",
      "HTTP request sent, awaiting response... 200 OK\n",
      "Length: 255144681 (243M) [application/octet-stream]\n",
      "Saving to: ‘./models/ColorizeArtistic_gen.pth’\n",
      "\n",
      "./models/ColorizeAr 100%[===================>] 243.32M  4.25MB/s    in 2m 47s  \n",
      "\n",
      "2021-11-16 22:48:40 (1.46 MB/s) - ‘./models/ColorizeArtistic_gen.pth’ saved [255144681/255144681]\n",
      "\n"
     ]
    }
   ],
   "source": [
    "#HIDE\n",
    "\n",
    "!mkdir 'models'\n",
    "!wget https://data.deepai.org/deoldify/ColorizeArtistic_gen.pth -O ./models/ColorizeArtistic_gen.pth"
   ]
  },
  {
   "cell_type": "code",
   "execution_count": 14,
   "id": "6edc4b7b-5fa7-4490-bc44-7c7d2be708bf",
   "metadata": {},
   "outputs": [
    {
     "name": "stdout",
     "output_type": "stream",
     "text": [
      "Collecting ipywidgets\n",
      "  Using cached ipywidgets-7.6.5-py2.py3-none-any.whl (121 kB)\n",
      "Requirement already satisfied: ipython-genutils~=0.2.0 in /opt/homebrew/Caskroom/miniforge/base/lib/python3.9/site-packages (from ipywidgets) (0.2.0)\n",
      "Requirement already satisfied: ipykernel>=4.5.1 in /opt/homebrew/Caskroom/miniforge/base/lib/python3.9/site-packages (from ipywidgets) (6.4.1)\n",
      "Requirement already satisfied: ipython>=4.0.0 in /opt/homebrew/Caskroom/miniforge/base/lib/python3.9/site-packages (from ipywidgets) (7.28.0)\n",
      "Requirement already satisfied: nbformat>=4.2.0 in /opt/homebrew/Caskroom/miniforge/base/lib/python3.9/site-packages (from ipywidgets) (5.1.3)\n",
      "Requirement already satisfied: traitlets>=4.3.1 in /opt/homebrew/Caskroom/miniforge/base/lib/python3.9/site-packages (from ipywidgets) (5.1.0)\n",
      "Collecting widgetsnbextension~=3.5.0\n",
      "  Downloading widgetsnbextension-3.5.2-py2.py3-none-any.whl (1.6 MB)\n",
      "\u001b[K     |████████████████████████████████| 1.6 MB 3.8 MB/s eta 0:00:01\n",
      "\u001b[?25hCollecting jupyterlab-widgets>=1.0.0\n",
      "  Downloading jupyterlab_widgets-1.0.2-py3-none-any.whl (243 kB)\n",
      "\u001b[K     |████████████████████████████████| 243 kB 403 kB/s eta 0:00:01\n",
      "\u001b[?25hRequirement already satisfied: debugpy<2.0,>=1.0.0 in /opt/homebrew/Caskroom/miniforge/base/lib/python3.9/site-packages (from ipykernel>=4.5.1->ipywidgets) (1.4.1)\n",
      "Requirement already satisfied: appnope in /opt/homebrew/Caskroom/miniforge/base/lib/python3.9/site-packages (from ipykernel>=4.5.1->ipywidgets) (0.1.2)\n",
      "Requirement already satisfied: jupyter-client<8.0 in /opt/homebrew/Caskroom/miniforge/base/lib/python3.9/site-packages (from ipykernel>=4.5.1->ipywidgets) (6.1.12)\n",
      "Requirement already satisfied: matplotlib-inline<0.2.0,>=0.1.0 in /opt/homebrew/Caskroom/miniforge/base/lib/python3.9/site-packages (from ipykernel>=4.5.1->ipywidgets) (0.1.3)\n",
      "Requirement already satisfied: tornado<7.0,>=4.2 in /opt/homebrew/Caskroom/miniforge/base/lib/python3.9/site-packages (from ipykernel>=4.5.1->ipywidgets) (6.1)\n",
      "Requirement already satisfied: pexpect>4.3 in /opt/homebrew/Caskroom/miniforge/base/lib/python3.9/site-packages (from ipython>=4.0.0->ipywidgets) (4.8.0)\n",
      "Requirement already satisfied: decorator in /opt/homebrew/Caskroom/miniforge/base/lib/python3.9/site-packages (from ipython>=4.0.0->ipywidgets) (5.1.0)\n",
      "Requirement already satisfied: jedi>=0.16 in /opt/homebrew/Caskroom/miniforge/base/lib/python3.9/site-packages (from ipython>=4.0.0->ipywidgets) (0.18.0)\n",
      "Requirement already satisfied: pickleshare in /opt/homebrew/Caskroom/miniforge/base/lib/python3.9/site-packages (from ipython>=4.0.0->ipywidgets) (0.7.5)\n",
      "Requirement already satisfied: backcall in /opt/homebrew/Caskroom/miniforge/base/lib/python3.9/site-packages (from ipython>=4.0.0->ipywidgets) (0.2.0)\n",
      "Requirement already satisfied: setuptools>=18.5 in /opt/homebrew/Caskroom/miniforge/base/lib/python3.9/site-packages (from ipython>=4.0.0->ipywidgets) (58.2.0)\n",
      "Requirement already satisfied: pygments in /opt/homebrew/Caskroom/miniforge/base/lib/python3.9/site-packages (from ipython>=4.0.0->ipywidgets) (2.10.0)\n",
      "Requirement already satisfied: prompt-toolkit!=3.0.0,!=3.0.1,<3.1.0,>=2.0.0 in /opt/homebrew/Caskroom/miniforge/base/lib/python3.9/site-packages (from ipython>=4.0.0->ipywidgets) (3.0.20)\n",
      "Requirement already satisfied: parso<0.9.0,>=0.8.0 in /opt/homebrew/Caskroom/miniforge/base/lib/python3.9/site-packages (from jedi>=0.16->ipython>=4.0.0->ipywidgets) (0.8.2)\n",
      "Requirement already satisfied: jupyter-core>=4.6.0 in /opt/homebrew/Caskroom/miniforge/base/lib/python3.9/site-packages (from jupyter-client<8.0->ipykernel>=4.5.1->ipywidgets) (4.8.1)\n",
      "Requirement already satisfied: python-dateutil>=2.1 in /opt/homebrew/Caskroom/miniforge/base/lib/python3.9/site-packages (from jupyter-client<8.0->ipykernel>=4.5.1->ipywidgets) (2.8.2)\n",
      "Requirement already satisfied: pyzmq>=13 in /opt/homebrew/Caskroom/miniforge/base/lib/python3.9/site-packages (from jupyter-client<8.0->ipykernel>=4.5.1->ipywidgets) (22.3.0)\n",
      "Requirement already satisfied: jsonschema!=2.5.0,>=2.4 in /opt/homebrew/Caskroom/miniforge/base/lib/python3.9/site-packages (from nbformat>=4.2.0->ipywidgets) (4.1.0)\n",
      "Requirement already satisfied: attrs>=17.4.0 in /opt/homebrew/Caskroom/miniforge/base/lib/python3.9/site-packages (from jsonschema!=2.5.0,>=2.4->nbformat>=4.2.0->ipywidgets) (21.2.0)\n",
      "Requirement already satisfied: pyrsistent!=0.17.0,!=0.17.1,!=0.17.2,>=0.14.0 in /opt/homebrew/Caskroom/miniforge/base/lib/python3.9/site-packages (from jsonschema!=2.5.0,>=2.4->nbformat>=4.2.0->ipywidgets) (0.17.3)\n",
      "Requirement already satisfied: ptyprocess>=0.5 in /opt/homebrew/Caskroom/miniforge/base/lib/python3.9/site-packages (from pexpect>4.3->ipython>=4.0.0->ipywidgets) (0.7.0)\n",
      "Requirement already satisfied: wcwidth in /opt/homebrew/Caskroom/miniforge/base/lib/python3.9/site-packages (from prompt-toolkit!=3.0.0,!=3.0.1,<3.1.0,>=2.0.0->ipython>=4.0.0->ipywidgets) (0.2.5)\n",
      "Requirement already satisfied: six>=1.5 in /opt/homebrew/Caskroom/miniforge/base/lib/python3.9/site-packages (from python-dateutil>=2.1->jupyter-client<8.0->ipykernel>=4.5.1->ipywidgets) (1.16.0)\n",
      "Requirement already satisfied: notebook>=4.4.1 in /opt/homebrew/Caskroom/miniforge/base/lib/python3.9/site-packages (from widgetsnbextension~=3.5.0->ipywidgets) (6.4.4)\n",
      "Requirement already satisfied: argon2-cffi in /opt/homebrew/Caskroom/miniforge/base/lib/python3.9/site-packages (from notebook>=4.4.1->widgetsnbextension~=3.5.0->ipywidgets) (20.1.0)\n",
      "Requirement already satisfied: prometheus-client in /opt/homebrew/Caskroom/miniforge/base/lib/python3.9/site-packages (from notebook>=4.4.1->widgetsnbextension~=3.5.0->ipywidgets) (0.11.0)\n",
      "Requirement already satisfied: jinja2 in /opt/homebrew/Caskroom/miniforge/base/lib/python3.9/site-packages (from notebook>=4.4.1->widgetsnbextension~=3.5.0->ipywidgets) (3.0.2)\n",
      "Requirement already satisfied: Send2Trash>=1.5.0 in /opt/homebrew/Caskroom/miniforge/base/lib/python3.9/site-packages (from notebook>=4.4.1->widgetsnbextension~=3.5.0->ipywidgets) (1.8.0)\n",
      "Requirement already satisfied: terminado>=0.8.3 in /opt/homebrew/Caskroom/miniforge/base/lib/python3.9/site-packages (from notebook>=4.4.1->widgetsnbextension~=3.5.0->ipywidgets) (0.12.1)\n",
      "Requirement already satisfied: nbconvert in /opt/homebrew/Caskroom/miniforge/base/lib/python3.9/site-packages (from notebook>=4.4.1->widgetsnbextension~=3.5.0->ipywidgets) (6.2.0)\n",
      "Requirement already satisfied: cffi>=1.0.0 in /opt/homebrew/Caskroom/miniforge/base/lib/python3.9/site-packages (from argon2-cffi->notebook>=4.4.1->widgetsnbextension~=3.5.0->ipywidgets) (1.14.6)\n",
      "Requirement already satisfied: pycparser in /opt/homebrew/Caskroom/miniforge/base/lib/python3.9/site-packages (from cffi>=1.0.0->argon2-cffi->notebook>=4.4.1->widgetsnbextension~=3.5.0->ipywidgets) (2.20)\n",
      "Requirement already satisfied: MarkupSafe>=2.0 in /opt/homebrew/Caskroom/miniforge/base/lib/python3.9/site-packages (from jinja2->notebook>=4.4.1->widgetsnbextension~=3.5.0->ipywidgets) (2.0.1)\n",
      "Requirement already satisfied: entrypoints>=0.2.2 in /opt/homebrew/Caskroom/miniforge/base/lib/python3.9/site-packages (from nbconvert->notebook>=4.4.1->widgetsnbextension~=3.5.0->ipywidgets) (0.3)\n",
      "Requirement already satisfied: pandocfilters>=1.4.1 in /opt/homebrew/Caskroom/miniforge/base/lib/python3.9/site-packages (from nbconvert->notebook>=4.4.1->widgetsnbextension~=3.5.0->ipywidgets) (1.5.0)\n",
      "Requirement already satisfied: testpath in /opt/homebrew/Caskroom/miniforge/base/lib/python3.9/site-packages (from nbconvert->notebook>=4.4.1->widgetsnbextension~=3.5.0->ipywidgets) (0.5.0)\n",
      "Requirement already satisfied: defusedxml in /opt/homebrew/Caskroom/miniforge/base/lib/python3.9/site-packages (from nbconvert->notebook>=4.4.1->widgetsnbextension~=3.5.0->ipywidgets) (0.7.1)\n",
      "Requirement already satisfied: mistune<2,>=0.8.1 in /opt/homebrew/Caskroom/miniforge/base/lib/python3.9/site-packages (from nbconvert->notebook>=4.4.1->widgetsnbextension~=3.5.0->ipywidgets) (0.8.4)\n",
      "Requirement already satisfied: nbclient<0.6.0,>=0.5.0 in /opt/homebrew/Caskroom/miniforge/base/lib/python3.9/site-packages (from nbconvert->notebook>=4.4.1->widgetsnbextension~=3.5.0->ipywidgets) (0.5.4)\n",
      "Requirement already satisfied: jupyterlab-pygments in /opt/homebrew/Caskroom/miniforge/base/lib/python3.9/site-packages (from nbconvert->notebook>=4.4.1->widgetsnbextension~=3.5.0->ipywidgets) (0.1.2)\n",
      "Requirement already satisfied: bleach in /opt/homebrew/Caskroom/miniforge/base/lib/python3.9/site-packages (from nbconvert->notebook>=4.4.1->widgetsnbextension~=3.5.0->ipywidgets) (4.1.0)\n",
      "Requirement already satisfied: nest-asyncio in /opt/homebrew/Caskroom/miniforge/base/lib/python3.9/site-packages (from nbclient<0.6.0,>=0.5.0->nbconvert->notebook>=4.4.1->widgetsnbextension~=3.5.0->ipywidgets) (1.5.1)\n",
      "Requirement already satisfied: packaging in /opt/homebrew/Caskroom/miniforge/base/lib/python3.9/site-packages (from bleach->nbconvert->notebook>=4.4.1->widgetsnbextension~=3.5.0->ipywidgets) (21.0)\n",
      "Requirement already satisfied: webencodings in /opt/homebrew/Caskroom/miniforge/base/lib/python3.9/site-packages (from bleach->nbconvert->notebook>=4.4.1->widgetsnbextension~=3.5.0->ipywidgets) (0.5.1)\n",
      "Requirement already satisfied: pyparsing>=2.0.2 in /opt/homebrew/Caskroom/miniforge/base/lib/python3.9/site-packages (from packaging->bleach->nbconvert->notebook>=4.4.1->widgetsnbextension~=3.5.0->ipywidgets) (2.4.7)\n",
      "Installing collected packages: widgetsnbextension, jupyterlab-widgets, ipywidgets\n",
      "Successfully installed ipywidgets-7.6.5 jupyterlab-widgets-1.0.2 widgetsnbextension-3.5.2\n",
      "Note: you may need to restart the kernel to use updated packages.\n"
     ]
    }
   ],
   "source": [
    "#HIDE\n",
    "\n",
    "!pip install ipywidgets\n"
   ]
  },
  {
   "cell_type": "code",
   "execution_count": 12,
   "id": "e9644340-076f-4c49-971f-3c4a027d0f53",
   "metadata": {},
   "outputs": [
    {
     "name": "stdout",
     "output_type": "stream",
     "text": [
      "Requirement already satisfied: voila in /opt/homebrew/Caskroom/miniforge/base/lib/python3.9/site-packages (0.2.15)\n",
      "Requirement already satisfied: jupyter-server<2.0.0,>=0.3.0 in /opt/homebrew/Caskroom/miniforge/base/lib/python3.9/site-packages (from voila) (1.11.1)\n",
      "Requirement already satisfied: jupyter-client<7,>=6.1.3 in /opt/homebrew/Caskroom/miniforge/base/lib/python3.9/site-packages (from voila) (6.1.12)\n",
      "Requirement already satisfied: nbconvert<7,>=6.0.0 in /opt/homebrew/Caskroom/miniforge/base/lib/python3.9/site-packages (from voila) (6.2.0)\n",
      "Requirement already satisfied: nbclient<0.6,>=0.4.0 in /opt/homebrew/Caskroom/miniforge/base/lib/python3.9/site-packages (from voila) (0.5.4)\n",
      "Requirement already satisfied: tornado>=4.1 in /opt/homebrew/Caskroom/miniforge/base/lib/python3.9/site-packages (from jupyter-client<7,>=6.1.3->voila) (6.1)\n",
      "Requirement already satisfied: pyzmq>=13 in /opt/homebrew/Caskroom/miniforge/base/lib/python3.9/site-packages (from jupyter-client<7,>=6.1.3->voila) (22.3.0)\n",
      "Requirement already satisfied: python-dateutil>=2.1 in /opt/homebrew/Caskroom/miniforge/base/lib/python3.9/site-packages (from jupyter-client<7,>=6.1.3->voila) (2.8.2)\n",
      "Requirement already satisfied: traitlets in /opt/homebrew/Caskroom/miniforge/base/lib/python3.9/site-packages (from jupyter-client<7,>=6.1.3->voila) (5.1.0)\n",
      "Requirement already satisfied: jupyter-core>=4.6.0 in /opt/homebrew/Caskroom/miniforge/base/lib/python3.9/site-packages (from jupyter-client<7,>=6.1.3->voila) (4.8.1)\n",
      "Requirement already satisfied: requests-unixsocket in /opt/homebrew/Caskroom/miniforge/base/lib/python3.9/site-packages (from jupyter-server<2.0.0,>=0.3.0->voila) (0.2.0)\n",
      "Requirement already satisfied: anyio<4,>=3.1.0 in /opt/homebrew/Caskroom/miniforge/base/lib/python3.9/site-packages (from jupyter-server<2.0.0,>=0.3.0->voila) (3.3.3)\n",
      "Requirement already satisfied: websocket-client in /opt/homebrew/Caskroom/miniforge/base/lib/python3.9/site-packages (from jupyter-server<2.0.0,>=0.3.0->voila) (0.57.0)\n",
      "Requirement already satisfied: nbformat in /opt/homebrew/Caskroom/miniforge/base/lib/python3.9/site-packages (from jupyter-server<2.0.0,>=0.3.0->voila) (5.1.3)\n",
      "Requirement already satisfied: terminado>=0.8.3 in /opt/homebrew/Caskroom/miniforge/base/lib/python3.9/site-packages (from jupyter-server<2.0.0,>=0.3.0->voila) (0.12.1)\n",
      "Requirement already satisfied: argon2-cffi in /opt/homebrew/Caskroom/miniforge/base/lib/python3.9/site-packages (from jupyter-server<2.0.0,>=0.3.0->voila) (20.1.0)\n",
      "Requirement already satisfied: Send2Trash in /opt/homebrew/Caskroom/miniforge/base/lib/python3.9/site-packages (from jupyter-server<2.0.0,>=0.3.0->voila) (1.8.0)\n",
      "Requirement already satisfied: prometheus-client in /opt/homebrew/Caskroom/miniforge/base/lib/python3.9/site-packages (from jupyter-server<2.0.0,>=0.3.0->voila) (0.11.0)\n",
      "Requirement already satisfied: ipython-genutils in /opt/homebrew/Caskroom/miniforge/base/lib/python3.9/site-packages (from jupyter-server<2.0.0,>=0.3.0->voila) (0.2.0)\n",
      "Requirement already satisfied: jinja2 in /opt/homebrew/Caskroom/miniforge/base/lib/python3.9/site-packages (from jupyter-server<2.0.0,>=0.3.0->voila) (3.0.2)\n",
      "Requirement already satisfied: sniffio>=1.1 in /opt/homebrew/Caskroom/miniforge/base/lib/python3.9/site-packages (from anyio<4,>=3.1.0->jupyter-server<2.0.0,>=0.3.0->voila) (1.2.0)\n",
      "Requirement already satisfied: idna>=2.8 in /opt/homebrew/Caskroom/miniforge/base/lib/python3.9/site-packages (from anyio<4,>=3.1.0->jupyter-server<2.0.0,>=0.3.0->voila) (3.1)\n",
      "Requirement already satisfied: nest-asyncio in /opt/homebrew/Caskroom/miniforge/base/lib/python3.9/site-packages (from nbclient<0.6,>=0.4.0->voila) (1.5.1)\n",
      "Requirement already satisfied: pygments>=2.4.1 in /opt/homebrew/Caskroom/miniforge/base/lib/python3.9/site-packages (from nbconvert<7,>=6.0.0->voila) (2.10.0)\n",
      "Requirement already satisfied: bleach in /opt/homebrew/Caskroom/miniforge/base/lib/python3.9/site-packages (from nbconvert<7,>=6.0.0->voila) (4.1.0)\n",
      "Requirement already satisfied: testpath in /opt/homebrew/Caskroom/miniforge/base/lib/python3.9/site-packages (from nbconvert<7,>=6.0.0->voila) (0.5.0)\n",
      "Requirement already satisfied: pandocfilters>=1.4.1 in /opt/homebrew/Caskroom/miniforge/base/lib/python3.9/site-packages (from nbconvert<7,>=6.0.0->voila) (1.5.0)\n",
      "Requirement already satisfied: defusedxml in /opt/homebrew/Caskroom/miniforge/base/lib/python3.9/site-packages (from nbconvert<7,>=6.0.0->voila) (0.7.1)\n",
      "Requirement already satisfied: mistune<2,>=0.8.1 in /opt/homebrew/Caskroom/miniforge/base/lib/python3.9/site-packages (from nbconvert<7,>=6.0.0->voila) (0.8.4)\n",
      "Requirement already satisfied: jupyterlab-pygments in /opt/homebrew/Caskroom/miniforge/base/lib/python3.9/site-packages (from nbconvert<7,>=6.0.0->voila) (0.1.2)\n",
      "Requirement already satisfied: entrypoints>=0.2.2 in /opt/homebrew/Caskroom/miniforge/base/lib/python3.9/site-packages (from nbconvert<7,>=6.0.0->voila) (0.3)\n",
      "Requirement already satisfied: MarkupSafe>=2.0 in /opt/homebrew/Caskroom/miniforge/base/lib/python3.9/site-packages (from jinja2->jupyter-server<2.0.0,>=0.3.0->voila) (2.0.1)\n",
      "Requirement already satisfied: jsonschema!=2.5.0,>=2.4 in /opt/homebrew/Caskroom/miniforge/base/lib/python3.9/site-packages (from nbformat->jupyter-server<2.0.0,>=0.3.0->voila) (4.1.0)\n",
      "Requirement already satisfied: attrs>=17.4.0 in /opt/homebrew/Caskroom/miniforge/base/lib/python3.9/site-packages (from jsonschema!=2.5.0,>=2.4->nbformat->jupyter-server<2.0.0,>=0.3.0->voila) (21.2.0)\n",
      "Requirement already satisfied: pyrsistent!=0.17.0,!=0.17.1,!=0.17.2,>=0.14.0 in /opt/homebrew/Caskroom/miniforge/base/lib/python3.9/site-packages (from jsonschema!=2.5.0,>=2.4->nbformat->jupyter-server<2.0.0,>=0.3.0->voila) (0.17.3)\n",
      "Requirement already satisfied: six>=1.5 in /opt/homebrew/Caskroom/miniforge/base/lib/python3.9/site-packages (from python-dateutil>=2.1->jupyter-client<7,>=6.1.3->voila) (1.16.0)\n",
      "Requirement already satisfied: ptyprocess in /opt/homebrew/Caskroom/miniforge/base/lib/python3.9/site-packages (from terminado>=0.8.3->jupyter-server<2.0.0,>=0.3.0->voila) (0.7.0)\n",
      "Requirement already satisfied: cffi>=1.0.0 in /opt/homebrew/Caskroom/miniforge/base/lib/python3.9/site-packages (from argon2-cffi->jupyter-server<2.0.0,>=0.3.0->voila) (1.14.6)\n",
      "Requirement already satisfied: pycparser in /opt/homebrew/Caskroom/miniforge/base/lib/python3.9/site-packages (from cffi>=1.0.0->argon2-cffi->jupyter-server<2.0.0,>=0.3.0->voila) (2.20)\n",
      "Requirement already satisfied: packaging in /opt/homebrew/Caskroom/miniforge/base/lib/python3.9/site-packages (from bleach->nbconvert<7,>=6.0.0->voila) (21.0)\n",
      "Requirement already satisfied: webencodings in /opt/homebrew/Caskroom/miniforge/base/lib/python3.9/site-packages (from bleach->nbconvert<7,>=6.0.0->voila) (0.5.1)\n",
      "Requirement already satisfied: pyparsing>=2.0.2 in /opt/homebrew/Caskroom/miniforge/base/lib/python3.9/site-packages (from packaging->bleach->nbconvert<7,>=6.0.0->voila) (2.4.7)\n",
      "Requirement already satisfied: requests>=1.1 in /opt/homebrew/Caskroom/miniforge/base/lib/python3.9/site-packages (from requests-unixsocket->jupyter-server<2.0.0,>=0.3.0->voila) (2.26.0)\n",
      "Requirement already satisfied: urllib3>=1.8 in /opt/homebrew/Caskroom/miniforge/base/lib/python3.9/site-packages (from requests-unixsocket->jupyter-server<2.0.0,>=0.3.0->voila) (1.26.7)\n",
      "Requirement already satisfied: certifi>=2017.4.17 in /opt/homebrew/Caskroom/miniforge/base/lib/python3.9/site-packages (from requests>=1.1->requests-unixsocket->jupyter-server<2.0.0,>=0.3.0->voila) (2021.10.8)\n",
      "Requirement already satisfied: charset-normalizer~=2.0.0 in /opt/homebrew/Caskroom/miniforge/base/lib/python3.9/site-packages (from requests>=1.1->requests-unixsocket->jupyter-server<2.0.0,>=0.3.0->voila) (2.0.0)\n"
     ]
    }
   ],
   "source": [
    "#HIDE\n",
    "\n",
    "!pip install voila\n"
   ]
  },
  {
   "cell_type": "code",
   "execution_count": 15,
   "id": "74876247-18fe-482b-8176-3bb3d7b22e8e",
   "metadata": {},
   "outputs": [],
   "source": [
    "#HIDE\n",
    "\n",
    "import ipywidgets as widgets\n",
    "from ipywidgets import interact, interactive, fixed, interact_manual"
   ]
  },
  {
   "cell_type": "code",
   "execution_count": 16,
   "id": "2348b0d4-3f77-4056-813b-0c8f796701f3",
   "metadata": {},
   "outputs": [
    {
     "name": "stdout",
     "output_type": "stream",
     "text": [
      "--2021-11-16 22:50:30--  https://data.deepai.org/deoldify/ColorizeArtistic_gen.pth\n",
      "Resolving data.deepai.org (data.deepai.org)... 138.201.36.183\n",
      "Connecting to data.deepai.org (data.deepai.org)|138.201.36.183|:443... connected.\n",
      "HTTP request sent, awaiting response... 200 OK\n",
      "Length: 255144681 (243M) [application/octet-stream]\n",
      "Saving to: ‘./models/ColorizeArtistic_gen.pth’\n",
      "\n",
      "./models/ColorizeAr 100%[===================>] 243.32M   778KB/s    in 2m 56s  \n",
      "\n",
      "2021-11-16 22:53:27 (1.38 MB/s) - ‘./models/ColorizeArtistic_gen.pth’ saved [255144681/255144681]\n",
      "\n"
     ]
    }
   ],
   "source": [
    "#HIDE\n",
    "\n",
    "!wget https://data.deepai.org/deoldify/ColorizeArtistic_gen.pth -O ./models/ColorizeArtistic_gen.pth"
   ]
  },
  {
   "cell_type": "code",
   "execution_count": 20,
   "id": "52604bc9-2839-45bd-ad26-5d7a4b37a5eb",
   "metadata": {},
   "outputs": [],
   "source": [
    "#HIDE\n",
    "\n",
    "mkdir ./resource_images"
   ]
  },
  {
   "cell_type": "code",
   "execution_count": 21,
   "id": "989e2c4e-806b-4bdf-87e2-dd22a8566f3e",
   "metadata": {},
   "outputs": [
    {
     "name": "stdout",
     "output_type": "stream",
     "text": [
      "--2021-11-16 22:55:33--  https://media.githubusercontent.com/media/jantic/DeOldify/master/resource_images/watermark.png\n",
      "Resolving media.githubusercontent.com (media.githubusercontent.com)... 185.199.110.133, 185.199.108.133, 185.199.111.133, ...\n",
      "Connecting to media.githubusercontent.com (media.githubusercontent.com)|185.199.110.133|:443... connected.\n",
      "HTTP request sent, awaiting response... 200 OK\n",
      "Length: 9210 (9.0K) [image/png]\n",
      "Saving to: ‘./resource_images/watermark.png’\n",
      "\n",
      "./resource_images/w 100%[===================>]   8.99K  --.-KB/s    in 0.001s  \n",
      "\n",
      "2021-11-16 22:55:33 (8.96 MB/s) - ‘./resource_images/watermark.png’ saved [9210/9210]\n",
      "\n"
     ]
    }
   ],
   "source": [
    "#HIDE\n",
    "\n",
    "!wget https://media.githubusercontent.com/media/jantic/DeOldify/master/resource_images/watermark.png -O ./resource_images/watermark.png"
   ]
  },
  {
   "cell_type": "code",
   "execution_count": 22,
   "id": "d9a12c39-d229-48a9-8f91-c7fe6e49a3a1",
   "metadata": {},
   "outputs": [
    {
     "ename": "NameError",
     "evalue": "name 'get_image_colorizer' is not defined",
     "output_type": "error",
     "traceback": [
      "\u001b[0;31m---------------------------------------------------------------------------\u001b[0m",
      "\u001b[0;31mNameError\u001b[0m                                 Traceback (most recent call last)",
      "\u001b[0;32m/var/folders/76/2lcqcxks4m5_cfh5tv2n14c40000gn/T/ipykernel_15439/1986056024.py\u001b[0m in \u001b[0;36m<module>\u001b[0;34m\u001b[0m\n\u001b[0;32m----> 1\u001b[0;31m \u001b[0mcolorizer\u001b[0m \u001b[0;34m=\u001b[0m \u001b[0mget_image_colorizer\u001b[0m\u001b[0;34m(\u001b[0m\u001b[0martistic\u001b[0m\u001b[0;34m=\u001b[0m\u001b[0;32mTrue\u001b[0m\u001b[0;34m)\u001b[0m\u001b[0;34m\u001b[0m\u001b[0;34m\u001b[0m\u001b[0m\n\u001b[0m",
      "\u001b[0;31mNameError\u001b[0m: name 'get_image_colorizer' is not defined"
     ]
    }
   ],
   "source": [
    "#HIDE\n",
    "\n",
    "colorizer = get_image_colorizer(artistic=True)"
   ]
  },
  {
   "cell_type": "code",
   "execution_count": 28,
   "id": "e0954838-81cf-4d7e-911c-461454f0979f",
   "metadata": {},
   "outputs": [],
   "source": [
    "#HIDE\n",
    "\n",
    "grand = widgets.IntSlider(min=7,max=49)\n",
    "name = widgets.Text(placeholder='Please put url here: ')\n",
    "file = widgets.FileUpload(\n",
    "    accept='',  # Accepted file extension e.g. '.txt', '.pdf', 'image/*', 'image/*,.pdf'\n",
    "    multiple=False  # True to accept multiple files upload else False\n",
    ")\n",
    "button = widgets.Button(description='Colorize',\n",
    "    tooltip='Click me',\n",
    "    icon='check' # (FontAwesome names without the `fa-` prefix)\n",
    "    )\n",
    "uploader = widgets.FileUpload()\n",
    "\n",
    "\n",
    "\n",
    "def colorizer_func (source_url, render_factor) -> str:\n",
    " \n",
    "        image_path = colorizer.plot_transformed_image_from_url(url=source_url, render_factor=render_factor, compare=True, watermarked=True)\n",
    "        isOnce = False\n",
    "        return image_path\n",
    "\n",
    "\n"
   ]
  },
  {
   "cell_type": "code",
   "execution_count": null,
   "id": "ece18d54",
   "metadata": {},
   "outputs": [],
   "source": []
  },
  {
   "cell_type": "code",
   "execution_count": 35,
   "id": "06dcec5b-73fe-440f-9fa2-709af6101f0b",
   "metadata": {},
   "outputs": [
    {
     "data": {
      "application/vnd.jupyter.widget-view+json": {
       "model_id": "0b71bfaaccd94080a52bfe0e5bdd0fb3",
       "version_major": 2,
       "version_minor": 0
      },
      "text/plain": [
       "VBox(children=(VBox(children=(HTML(value='Please provide text to colorize picture: '), Text(value='', placehol…"
      ]
     },
     "metadata": {},
     "output_type": "display_data"
    }
   ],
   "source": [
    "\n",
    "\n",
    "# DISPLAY BUTTON  \n",
    "\n",
    "out = widgets.Output()\n",
    "def on_button_clicked(event):\n",
    "  isOnce = True\n",
    "  if isOnce:\n",
    "    with out:\n",
    "      if name.value is not None and name.value !='':\n",
    "                show_image_in_notebook(colorizer_func(name.value, grand.value))\n",
    "      else:\n",
    "        print('Provide an image url and try again.')\n",
    "\n",
    "button.on_click(on_button_clicked)\n",
    "text = widgets.HTML(value=\"Please provide text to colorize picture: \")\n",
    "left_box = widgets.VBox([text, name])\n",
    "renderText = widgets.HTML(value=\"Please select the render factor: \")\n",
    "second_row = widgets.VBox([renderText, grand])\n",
    "vbox_result = widgets.VBox([left_box, second_row, button, out])\n",
    "vbox_result\n",
    "\n",
    "# linking button and function together using a button's method\n",
    "# displaying button and its output together"
   ]
  },
  {
   "cell_type": "code",
   "execution_count": null,
   "id": "63f0f3f0-c6f6-4a8d-90b3-4798ef2a146c",
   "metadata": {},
   "outputs": [],
   "source": []
  }
 ],
 "metadata": {
  "kernelspec": {
   "display_name": "Python 3 (ipykernel)",
   "language": "python",
   "name": "python3"
  },
  "language_info": {
   "codemirror_mode": {
    "name": "ipython",
    "version": 3
   },
   "file_extension": ".py",
   "mimetype": "text/x-python",
   "name": "python",
   "nbconvert_exporter": "python",
   "pygments_lexer": "ipython3",
   "version": "3.9.6"
  }
 },
 "nbformat": 4,
 "nbformat_minor": 5
}
