{
 "cells": [
  {
   "cell_type": "code",
   "execution_count": 1,
   "id": "87badbce",
   "metadata": {},
   "outputs": [
    {
     "name": "stdout",
     "output_type": "stream",
     "text": [
      "C:\\Users\\chunk\\Jupyter Projects\\colorizeBlackandWhite\n",
      "C:\\Users\\chunk\\Jupyter Projects\\colorizeBlackandWhite\\Input\n"
     ]
    }
   ],
   "source": [
    "import os\n",
    "#os.chdir('..')\n",
    "input_folder = \"Input\"\n",
    "output_folder = \"Output\"\n",
    "basepath = os.getcwd()\n",
    "input_path = os.path.join(basepath, input_folder)\n",
    "output_path = os.path.join(basepath, output_folder)\n",
    "image_input = input_path + '\\\\'\n",
    "image_output = output_path + '\\\\'\n",
    "print(basepath)\n",
    "print(input_path)"
   ]
  },
  {
   "cell_type": "code",
   "execution_count": 2,
   "id": "fa03a53e",
   "metadata": {},
   "outputs": [],
   "source": [
    "os.chdir(basepath)\n",
    "os.chdir('DeOldify')"
   ]
  },
  {
   "cell_type": "code",
   "execution_count": 3,
   "id": "e6a50ec6",
   "metadata": {},
   "outputs": [],
   "source": [
    "#HIDE\n",
    "import io\n",
    "import PIL\n",
    "from PIL import Image\n",
    "from deoldify import device\n",
    "from deoldify.device_id import DeviceId\n",
    "import ipywidgets as widgets\n",
    "from ipywidgets import interact, interactive, fixed, interact_manual\n",
    "import requests\n",
    "import torch\n",
    "import shutil\n",
    "\n",
    "device.set(device=DeviceId.GPU0)\n",
    "if not torch.cuda.is_available():\n",
    "    print('GPU not available.')"
   ]
  },
  {
   "cell_type": "code",
   "execution_count": 4,
   "id": "d4e829ef",
   "metadata": {},
   "outputs": [],
   "source": [
    "#HIDE\n",
    "\n",
    "import fastai\n",
    "from deoldify.visualize import *\n",
    "import warnings\n",
    "warnings.filterwarnings(\"ignore\", category=UserWarning, message=\".*?Your .*? set is empty.*?\")"
   ]
  },
  {
   "cell_type": "code",
   "execution_count": 5,
   "id": "b65d11b7",
   "metadata": {},
   "outputs": [],
   "source": [
    "#HIDE\n",
    "\n",
    "colorizer = get_image_colorizer(artistic=True)"
   ]
  },
  {
   "cell_type": "code",
   "execution_count": 6,
   "id": "aff18eed",
   "metadata": {},
   "outputs": [],
   "source": [
    "#HIDE\n",
    "grand = widgets.IntSlider(min=15,max=39)\n",
    "\n",
    "url_pic = widgets.Text(placeholder='Please put url here: ')\n",
    "\n",
    "file = widgets.FileUpload(\n",
    "    accept='',  # Accepted file extension e.g. '.txt', '.pdf', 'image/*', 'image/*,.pdf'\n",
    "    multiple=False  # True to accept multiple files upload else False\n",
    ")\n",
    "\n",
    "\n",
    "button = widgets.Button(description='Colorize',\n",
    "    tooltip='Click me',\n",
    "    icon='check' # (FontAwesome names without the `fa-` prefix)\n",
    "    )\n",
    "\n",
    "\n",
    "uploader = widgets.FileUpload(\n",
    "    accept='image/*',  # Accepted file extension e.g. '.txt', '.pdf', 'image/*', 'image/*,.pdf'\n",
    "    multiple=True  # True to accept multiple files upload else False\n",
    ")\n",
    "\n",
    "\n",
    "restoreBox = widgets.Checkbox(\n",
    "    value=False,\n",
    "    description='Restore',\n",
    "    disabled=False,\n",
    "    indent=False\n",
    ")\n",
    "\n",
    "def clear_output_folder():\n",
    "    os.chdir(output_path)\n",
    "    file_list = os.listdir()\n",
    "    for image in file_list:\n",
    "        try:\n",
    "            os.remove(image)\n",
    "        except:\n",
    "            os.rmdir(image)\n",
    "    os.chdir(basepath+'\\\\DeOldify\\\\result_images')\n",
    "    file_list = os.listdir()\n",
    "    for image in file_list:\n",
    "        try:\n",
    "            os.remove(image)\n",
    "        except:\n",
    "            os.rmdir(image)\n",
    "    os.chdir(basepath)\n",
    "    \n",
    "\n",
    "def clear_input_folder():\n",
    "    os.chdir(input_path)\n",
    "    file_list = os.listdir()\n",
    "    for image in file_list:\n",
    "        try:\n",
    "            os.remove(image)\n",
    "        except:\n",
    "            os.rmdir(image)\n",
    "    os.chdir(basepath)"
   ]
  },
  {
   "cell_type": "code",
   "execution_count": 7,
   "id": "702aa330",
   "metadata": {},
   "outputs": [
    {
     "name": "stdout",
     "output_type": "stream",
     "text": [
      "Connecting to wss://anvil.works/uplink\n",
      "Anvil websocket open\n",
      "Connected to \"Default environment\" as SERVER\n"
     ]
    }
   ],
   "source": [
    "\n",
    "import anvil.server\n",
    "\n",
    "anvil.server.connect(\"NDXLEIAYPNCKPZZZJ67YHJ3C-4DOOCAYYMZN2YEXK\")"
   ]
  },
  {
   "cell_type": "code",
   "execution_count": 8,
   "id": "40f5b560",
   "metadata": {},
   "outputs": [],
   "source": [
    "import anvil.media\n",
    "import io\n",
    "import random\n",
    "from io import BytesIO\n",
    "from PIL import Image\n",
    "\n",
    "\n",
    "@anvil.server.callable\n",
    "def upload_image(file):\n",
    "    try:\n",
    "        os.chdir(input_path)\n",
    "        picture = Image.open(io.BytesIO(file.get_bytes()))\n",
    "        picture = picture.convert(\"RGB\")\n",
    "        picture = picture.save('image.jpg', 'JPEG')\n",
    "        os.chdir(basepath)\n",
    "        return 'File Uploaded.'\n",
    "    except:\n",
    "        clear_input_folder()\n",
    "        return 'File Type Not Supported, Please try a different file.'\n",
    "\n",
    "    \n",
    "@anvil.server.callable\n",
    "def url_image(source_url):\n",
    "    try:\n",
    "        os.chdir(input_path)\n",
    "        img_data = requests.get(source_url).content\n",
    "        with open('image.jpg', 'wb') as handler:\n",
    "            handler.write(img_data)\n",
    "        return 'URL Image Loaded.'\n",
    "    except:\n",
    "        clear_input_folder()\n",
    "        return 'URL Image Not Supported, Please try a different URL.'\n",
    "    os.chdir(basepath)\n",
    "\n",
    "\n",
    "\n",
    "@anvil.server.callable\n",
    "def image_colorise(r_factor):\n",
    "    os.chdir(input_path)\n",
    "    images = os.listdir()\n",
    "    os.chdir(output_path)\n",
    "    for image in images:\n",
    "        p = image_input + 'image.jpg'\n",
    "        os.chdir(basepath+'\\\\DeOldify')\n",
    "        image_path = colorizer.plot_transformed_image(path=p, render_factor=r_factor, \n",
    "                                                      compare=True, watermarked=False)\n",
    "        picture = Image.open(image_path)\n",
    "        os.chdir(output_path)\n",
    "        picture = picture.save('COLORIZED_' + image)\n",
    "        colored = Image.open('COLORIZED_' + image)\n",
    "        byte_io = BytesIO()\n",
    "        colored.save(byte_io, 'JPEG')\n",
    "        os.chdir(basepath)\n",
    "        clear_input_folder()\n",
    "        clear_output_folder()\n",
    "        return anvil.BlobMedia(\"image/jpeg\", byte_io.getvalue() , name='Colorized_Image' + \n",
    "                               str(random.randint(0,9999)) + '.jpg')\n",
    "    \n",
    "    "
   ]
  },
  {
   "cell_type": "code",
   "execution_count": null,
   "id": "cdbcdff7",
   "metadata": {},
   "outputs": [
    {
     "name": "stdout",
     "output_type": "stream",
     "text": [
      "Warning: render_factor was set too high, and out of memory error resulted. Returning original image.\n"
     ]
    }
   ],
   "source": [
    "anvil.server.wait_forever()"
   ]
  },
  {
   "cell_type": "code",
   "execution_count": null,
   "id": "8f9ec67c",
   "metadata": {},
   "outputs": [],
   "source": []
  }
 ],
 "metadata": {
  "kernelspec": {
   "display_name": "Python 3.7 Jupyter",
   "language": "python",
   "name": "3.7jupyter"
  },
  "language_info": {
   "codemirror_mode": {
    "name": "ipython",
    "version": 3
   },
   "file_extension": ".py",
   "mimetype": "text/x-python",
   "name": "python",
   "nbconvert_exporter": "python",
   "pygments_lexer": "ipython3",
   "version": "3.8.12"
  }
 },
 "nbformat": 4,
 "nbformat_minor": 5
}
