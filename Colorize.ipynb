{
  "cells":[
    {
      "cell_type":"code",
      "source":[
        "!pip install -U fastai"
      ],
      "execution_count":1,
      "outputs":[
        {
          "name":"stdout",
          "text":[
            "Requirement already satisfied: fastai in \/opt\/python\/envs\/default\/lib\/python3.8\/site-packages (1.0.61)\r\n",
            "Collecting fastai\r\n",
            "  Downloading fastai-2.5.3-py3-none-any.whl (189 kB)\r\n",
            "\u001b[?25l\r\r     |█▊                              | 10 kB 22.1 MB\/s eta 0:00:01\r     |███▌                            | 20 kB 26.8 MB\/s eta 0:00:01\r     |█████▏                          | 30 kB 31.4 MB\/s eta 0:00:01\r     |███████                         | 40 kB 33.2 MB\/s eta 0:00:01\r     |████████▋                       | 51 kB 32.6 MB\/s eta 0:00:01\r     |██████████▍                     | 61 kB 25.3 MB\/s eta 0:00:01\r     |████████████                    | 71 kB 23.2 MB\/s eta 0:00:01\r     |█████████████▉                  | 81 kB 24.8 MB\/s eta 0:00:01\r     |███████████████▋                | 92 kB 23.3 MB\/s eta 0:00:01\r     |█████████████████▎              | 102 kB 23.1 MB\/s eta 0:00:01\r     |███████████████████             | 112 kB 23.1 MB\/s eta 0:00:01\r     |████████████████████▊           | 122 kB 23.1 MB\/s eta 0:00:01\r     |██████████████████████▌         | 133 kB 23.1 MB\/s eta 0:00:01\r     |████████████████████████▏       | 143 kB 23.1 MB\/s eta 0:00:01\r     |██████████████████████████      | 153 kB 23.1 MB\/s eta 0:00:01\r     |███████████████████████████▊    | 163 kB 23.1 MB\/s eta 0:00:01\r     |█████████████████████████████▍  | 174 kB 23.1 MB\/s eta 0:00:01\r     |███████████████████████████████▏| 184 kB 23.1 MB\/s eta 0:00:01\r     |████████████████████████████████| 189 kB 23.1 MB\/s            \r\n",
            "\u001b[?25hRequirement already satisfied: torch<1.11,>=1.7.0 in \/opt\/python\/envs\/default\/lib\/python3.8\/site-packages (from fastai) (1.9.1+cpu)\r\n",
            "Requirement already satisfied: pandas in \/opt\/python\/envs\/default\/lib\/python3.8\/site-packages (from fastai) (1.3.4)\r\n",
            "Requirement already satisfied: matplotlib in \/opt\/python\/envs\/default\/lib\/python3.8\/site-packages (from fastai) (3.3.4)\r\n",
            "Requirement already satisfied: pillow>6.0.0 in \/opt\/python\/envs\/default\/lib\/python3.8\/site-packages (from fastai) (8.4.0)\r\n",
            "Requirement already satisfied: fastcore<1.4,>=1.3.22 in \/opt\/python\/envs\/default\/lib\/python3.8\/site-packages (from fastai) (1.3.27)\r\n",
            "Requirement already satisfied: fastprogress>=0.2.4 in \/opt\/python\/envs\/default\/lib\/python3.8\/site-packages (from fastai) (1.0.0)\r\n",
            "Requirement already satisfied: pip in \/opt\/python\/envs\/default\/lib\/python3.8\/site-packages (from fastai) (21.3.1)\r\n",
            "Collecting fastdownload<2,>=0.0.5\r\n",
            "  Downloading fastdownload-0.0.5-py3-none-any.whl (13 kB)\r\n",
            "Requirement already satisfied: packaging in \/opt\/python\/envs\/default\/lib\/python3.8\/site-packages (from fastai) (21.2)\r\n",
            "Requirement already satisfied: requests in \/opt\/python\/envs\/default\/lib\/python3.8\/site-packages (from fastai) (2.26.0)\r\n",
            "Requirement already satisfied: scipy in \/opt\/python\/envs\/default\/lib\/python3.8\/site-packages (from fastai) (1.7.1)\r\n",
            "Requirement already satisfied: torchvision>=0.8.2 in \/opt\/python\/envs\/default\/lib\/python3.8\/site-packages (from fastai) (0.10.1+cpu)\r\n",
            "Requirement already satisfied: spacy<4 in \/opt\/python\/envs\/default\/lib\/python3.8\/site-packages (from fastai) (3.1.4)\r\n",
            "Requirement already satisfied: pyyaml in \/opt\/python\/envs\/default\/lib\/python3.8\/site-packages (from fastai) (6.0)\r\n",
            "Requirement already satisfied: scikit-learn in \/opt\/python\/envs\/default\/lib\/python3.8\/site-packages (from fastai) (1.0)\r\n",
            "Requirement already satisfied: numpy in \/opt\/python\/envs\/default\/lib\/python3.8\/site-packages (from fastprogress>=0.2.4->fastai) (1.19.5)\r\n",
            "Requirement already satisfied: srsly<3.0.0,>=2.4.1 in \/opt\/python\/envs\/default\/lib\/python3.8\/site-packages (from spacy<4->fastai) (2.4.2)\r\n",
            "Requirement already satisfied: murmurhash<1.1.0,>=0.28.0 in \/opt\/python\/envs\/default\/lib\/python3.8\/site-packages (from spacy<4->fastai) (1.0.6)\r\n",
            "Requirement already satisfied: typer<0.5.0,>=0.3.0 in \/opt\/python\/envs\/default\/lib\/python3.8\/site-packages (from spacy<4->fastai) (0.4.0)\r\n",
            "Requirement already satisfied: pathy>=0.3.5 in \/opt\/python\/envs\/default\/lib\/python3.8\/site-packages (from spacy<4->fastai) (0.6.1)\r\n",
            "Requirement already satisfied: tqdm<5.0.0,>=4.38.0 in \/opt\/python\/envs\/default\/lib\/python3.8\/site-packages (from spacy<4->fastai) (4.62.3)\r\n",
            "Requirement already satisfied: preshed<3.1.0,>=3.0.2 in \/opt\/python\/envs\/default\/lib\/python3.8\/site-packages (from spacy<4->fastai) (3.0.6)\r\n",
            "Requirement already satisfied: jinja2 in \/opt\/python\/envs\/default\/lib\/python3.8\/site-packages (from spacy<4->fastai) (3.0.2)\r\n",
            "Requirement already satisfied: blis<0.8.0,>=0.4.0 in \/opt\/python\/envs\/default\/lib\/python3.8\/site-packages (from spacy<4->fastai) (0.7.5)\r\n",
            "Requirement already satisfied: spacy-legacy<3.1.0,>=3.0.8 in \/opt\/python\/envs\/default\/lib\/python3.8\/site-packages (from spacy<4->fastai) (3.0.8)\r\n",
            "Requirement already satisfied: catalogue<2.1.0,>=2.0.6 in \/opt\/python\/envs\/default\/lib\/python3.8\/site-packages (from spacy<4->fastai) (2.0.6)\r\n",
            "Requirement already satisfied: wasabi<1.1.0,>=0.8.1 in \/opt\/python\/envs\/default\/lib\/python3.8\/site-packages (from spacy<4->fastai) (0.8.2)\r\n",
            "Requirement already satisfied: setuptools in \/opt\/python\/envs\/default\/lib\/python3.8\/site-packages (from spacy<4->fastai) (56.0.0)\r\n",
            "Requirement already satisfied: pydantic!=1.8,!=1.8.1,<1.9.0,>=1.7.4 in \/opt\/python\/envs\/default\/lib\/python3.8\/site-packages (from spacy<4->fastai) (1.8.2)\r\n",
            "Requirement already satisfied: cymem<2.1.0,>=2.0.2 in \/opt\/python\/envs\/default\/lib\/python3.8\/site-packages (from spacy<4->fastai) (2.0.6)\r\n",
            "Requirement already satisfied: thinc<8.1.0,>=8.0.12 in \/opt\/python\/envs\/default\/lib\/python3.8\/site-packages (from spacy<4->fastai) (8.0.12)\r\n",
            "Requirement already satisfied: pyparsing<3,>=2.0.2 in \/opt\/python\/envs\/default\/lib\/python3.8\/site-packages (from packaging->fastai) (2.4.7)\r\n",
            "Requirement already satisfied: idna<4,>=2.5 in \/opt\/python\/envs\/default\/lib\/python3.8\/site-packages (from requests->fastai) (3.3)\r\n",
            "Requirement already satisfied: charset-normalizer~=2.0.0 in \/opt\/python\/envs\/default\/lib\/python3.8\/site-packages (from requests->fastai) (2.0.7)\r\n",
            "Requirement already satisfied: certifi>=2017.4.17 in \/opt\/python\/envs\/default\/lib\/python3.8\/site-packages (from requests->fastai) (2021.10.8)\r\n",
            "Requirement already satisfied: urllib3<1.27,>=1.21.1 in \/opt\/python\/envs\/default\/lib\/python3.8\/site-packages (from requests->fastai) (1.26.7)\r\n",
            "Requirement already satisfied: typing-extensions in \/opt\/python\/envs\/default\/lib\/python3.8\/site-packages (from torch<1.11,>=1.7.0->fastai) (3.7.4.3)\r\n",
            "Requirement already satisfied: python-dateutil>=2.1 in \/opt\/python\/envs\/default\/lib\/python3.8\/site-packages (from matplotlib->fastai) (2.8.2)\r\n",
            "Requirement already satisfied: cycler>=0.10 in \/opt\/python\/envs\/default\/lib\/python3.8\/site-packages (from matplotlib->fastai) (0.11.0)\r\n",
            "Requirement already satisfied: kiwisolver>=1.0.1 in \/opt\/python\/envs\/default\/lib\/python3.8\/site-packages (from matplotlib->fastai) (1.3.2)\r\n",
            "Requirement already satisfied: pytz>=2017.3 in \/opt\/python\/envs\/default\/lib\/python3.8\/site-packages (from pandas->fastai) (2021.3)\r\n",
            "Requirement already satisfied: threadpoolctl>=2.0.0 in \/opt\/python\/envs\/default\/lib\/python3.8\/site-packages (from scikit-learn->fastai) (3.0.0)\r\n",
            "Requirement already satisfied: joblib>=0.11 in \/opt\/python\/envs\/default\/lib\/python3.8\/site-packages (from scikit-learn->fastai) (1.1.0)\r\n",
            "Requirement already satisfied: smart-open<6.0.0,>=5.0.0 in \/opt\/python\/envs\/default\/lib\/python3.8\/site-packages (from pathy>=0.3.5->spacy<4->fastai) (5.2.1)\r\n",
            "Requirement already satisfied: six>=1.5 in \/opt\/python\/envs\/default\/lib\/python3.8\/site-packages (from python-dateutil>=2.1->matplotlib->fastai) (1.15.0)\r\n",
            "Requirement already satisfied: click<9.0.0,>=7.1.1 in \/opt\/python\/envs\/default\/lib\/python3.8\/site-packages (from typer<0.5.0,>=0.3.0->spacy<4->fastai) (7.1.2)\r\n",
            "Requirement already satisfied: MarkupSafe>=2.0 in \/opt\/python\/envs\/default\/lib\/python3.8\/site-packages (from jinja2->spacy<4->fastai) (2.0.1)\r\n",
            "Installing collected packages: fastdownload, fastai\r\n",
            "  Attempting uninstall: fastai\r\n",
            "    Found existing installation: fastai 1.0.61\r\n",
            "    Uninstalling fastai-1.0.61:\r\n",
            "      Successfully uninstalled fastai-1.0.61\r\n",
            "Successfully installed fastai-2.5.3 fastdownload-0.0.5\r\n"
          ],
          "output_type":"stream"
        }
      ],
      "metadata":{
        
      }
    },
    {
      "cell_type":"code",
      "source":[
        "from fastai.data.external import untar_data,URLs\n",
        "from fastai.data.transforms import get_image_files"
      ],
      "execution_count":2,
      "outputs":[
        
      ],
      "metadata":{
        
      }
    },
    {
      "cell_type":"code",
      "source":[
        "path = \"\/data\/notebook_files\/Data\"\n",
        "files = get_image_files(path)\n",
        "files[0]"
      ],
      "execution_count":3,
      "outputs":[
        {
          "data":{
            "text\/plain":[
              "Path('\/data\/notebook_files\/Data\/Cars\/Car Greyscale\/Car (40)_gray.jpg')"
            ]
          },
          "metadata":{
            
          },
          "output_type":"display_data"
        }
      ],
      "metadata":{
        
      }
    },
    {
      "cell_type":"code",
      "source":[
        "import PIL"
      ],
      "execution_count":4,
      "outputs":[
        
      ],
      "metadata":{
        
      }
    },
    {
      "cell_type":"code",
      "source":[
        "img = PIL.Image.open(files[0])\n",
        "img.show"
      ],
      "execution_count":5,
      "outputs":[
        {
          "data":{
            "text\/plain":[
              "<bound method Image.show of <PIL.JpegImagePlugin.JpegImageFile image mode=L size=1024x547 at 0x7F8A977899D0>>"
            ]
          },
          "metadata":{
            
          },
          "output_type":"display_data"
        }
      ],
      "metadata":{
        
      }
    },
    {
      "cell_type":"code",
      "source":[
        "import  torch\n",
        "import numpy as np"
      ],
      "execution_count":6,
      "outputs":[
        
      ],
      "metadata":{
        
      }
    },
    {
      "cell_type":"code",
      "source":[
        "def open_image(fname, size=224):\n",
        "    img = PIL.Image.open(fname).convert('RGB')\n",
        "    img = img.resize((size, size))\n",
        "    t = torch.Tensor(np.array(np.array(img)))\n",
        "    return t.permute(2,0,1).float()\/255.0"
      ],
      "execution_count":7,
      "outputs":[
        
      ],
      "metadata":{
        
      }
    },
    {
      "cell_type":"code",
      "source":[
        "open_image(files[0]).shape"
      ],
      "execution_count":8,
      "outputs":[
        {
          "data":{
            "text\/plain":[
              "torch.Size([3, 224, 224])"
            ]
          },
          "metadata":{
            
          },
          "output_type":"display_data"
        }
      ],
      "metadata":{
        
      }
    },
    {
      "cell_type":"code",
      "source":[
        "import re"
      ],
      "execution_count":9,
      "outputs":[
        
      ],
      "metadata":{
        
      }
    },
    {
      "cell_type":"code",
      "source":[
        "def label_func(fname):\n",
        "    return (re.match(r\"^(.*).jpg$\", fname.name).groups()[0])\n",
        "\n",
        "\n",
        "\n",
        "label_func(files[23])"
      ],
      "execution_count":10,
      "outputs":[
        {
          "data":{
            "text\/plain":[
              "'PoliceCar (47)_gray'"
            ]
          },
          "metadata":{
            
          },
          "output_type":"display_data"
        }
      ],
      "metadata":{
        
      }
    },
    {
      "cell_type":"code",
      "source":[
        "labels = list(set(files.map(label_func)))\n",
        "len(labels)"
      ],
      "execution_count":11,
      "outputs":[
        {
          "data":{
            "text\/plain":[
              "105"
            ]
          },
          "metadata":{
            
          },
          "output_type":"display_data"
        }
      ],
      "metadata":{
        
      }
    },
    {
      "cell_type":"code",
      "source":[
        "lbl2files = {l: [f for f in files if label_func(f) == l] for l in labels}"
      ],
      "execution_count":12,
      "outputs":[
        
      ],
      "metadata":{
        
      }
    },
    {
      "cell_type":"code",
      "source":[
        "import random\n",
        "import PIL"
      ],
      "execution_count":13,
      "outputs":[
        
      ],
      "metadata":{
        
      }
    },
    {
      "cell_type":"code",
      "source":[
        "class SiameseDataset(torch.utils.data.Dataset):\n",
        "    def __init__(self, files, is_valid=False):\n",
        "        self.files,self.is_valid = files,is_valid\n",
        "        if is_valid: self.files2 = [self._draw(f) for f in files]\n",
        "        \n",
        "    def __getitem__(self, i):\n",
        "        file1 = self.files[i]\n",
        "        (file2,same) = self.files2[i] if self.is_valid else self._draw(file1)\n",
        "        img1,img2 = open_image(file1),open_image(file2)\n",
        "        return (img1, img2, torch.Tensor([same]).squeeze())\n",
        "    \n",
        "    def __len__(self): return len(self.files)\n",
        "    \n",
        "    def _draw(self, f):\n",
        "        same = random.random() < 0.5\n",
        "        cls = label_func(f)\n",
        "        if not same: cls = random.choice([l for l in labels if l != cls]) \n",
        "        return random.choice(lbl2files[cls]),same"
      ],
      "execution_count":14,
      "outputs":[
        
      ],
      "metadata":{
        
      }
    },
    {
      "cell_type":"code",
      "source":[
        "idxs = np.random.permutation(range(len(files)))\n",
        "cut = int(0.8 * len(files))\n",
        "train_files = files[idxs[:cut]]\n",
        "valid_files = files[idxs[cut:]]"
      ],
      "execution_count":15,
      "outputs":[
        
      ],
      "metadata":{
        
      }
    },
    {
      "cell_type":"code",
      "source":[
        "train_ds = SiameseDataset(train_files)\n",
        "valid_ds = SiameseDataset(valid_files, is_valid=True)"
      ],
      "execution_count":16,
      "outputs":[
        
      ],
      "metadata":{
        
      }
    },
    {
      "cell_type":"code",
      "source":[
        "from fastai.data.core import DataLoaders"
      ],
      "execution_count":17,
      "outputs":[
        
      ],
      "metadata":{
        
      }
    },
    {
      "cell_type":"code",
      "source":[
        "dls = DataLoaders.from_dsets(train_ds, valid_ds)"
      ],
      "execution_count":18,
      "outputs":[
        
      ],
      "metadata":{
        
      }
    },
    {
      "cell_type":"code",
      "source":[
        "b = dls.one_batch()"
      ],
      "execution_count":19,
      "outputs":[
        
      ],
      "metadata":{
        
      }
    },
    {
      "cell_type":"code",
      "source":[
        "dls = dls.cuda()"
      ],
      "execution_count":20,
      "outputs":[
        
      ],
      "metadata":{
        
      }
    },
    {
      "cell_type":"code",
      "source":[
        "from fastai.vision.all import *"
      ],
      "execution_count":21,
      "outputs":[
        
      ],
      "metadata":{
        
      }
    },
    {
      "cell_type":"code",
      "source":[
        "class SiameseTransform(Transform):\n",
        "    def __init__(self, files, is_valid=False):\n",
        "        self.files,self.is_valid = files,is_valid\n",
        "        if is_valid: self.files2 = [self._draw(f) for f in files]\n",
        "        \n",
        "    def encodes(self, i):\n",
        "        file1 = self.files[i]\n",
        "        (file2,same) = self.files2[i] if self.is_valid else self._draw(file1)\n",
        "        img1,img2 = open_image(file1),open_image(file2)\n",
        "        return (TensorImage(img1), TensorImage(img2), torch.Tensor([same]).squeeze())\n",
        "    \n",
        "    def _draw(self, f):\n",
        "        same = random.random() < 0.5\n",
        "        cls = label_func(f)\n",
        "        if not same: cls = random.choice([l for l in labels if l != cls]) \n",
        "        return random.choice(lbl2files[cls]),same"
      ],
      "execution_count":22,
      "outputs":[
        
      ],
      "metadata":{
        
      }
    },
    {
      "cell_type":"code",
      "source":[
        "train_tl= TfmdLists(range(len(train_files)), SiameseTransform(train_files))\n",
        "len(train_tl)\n",
        "valid_tl= TfmdLists(range(len(valid_files)), SiameseTransform(valid_files, is_valid=True))\n",
        "len(valid_tl)"
      ],
      "execution_count":23,
      "outputs":[
        {
          "data":{
            "text\/plain":[
              "21"
            ]
          },
          "metadata":{
            
          },
          "output_type":"display_data"
        }
      ],
      "metadata":{
        
      }
    },
    {
      "cell_type":"code",
      "source":[
        "dls = DataLoaders.from_dsets(train_tl, valid_tl, \n",
        "                             after_batch=[Normalize.from_stats(*imagenet_stats), *aug_transforms()])\n",
        "dls = dls.cuda()"
      ],
      "execution_count":24,
      "outputs":[
        
      ],
      "metadata":{
        
      }
    },
    {
      "cell_type":"code",
      "source":[
        "class SiameseImage(fastuple):\n",
        "    def show(self, ctx=None, **kwargs): \n",
        "        if len(self) > 2:\n",
        "            img1,img2,similarity = self\n",
        "        else:\n",
        "            img1,img2 = self\n",
        "            similarity = 'Undetermined'\n",
        "        if not isinstance(img1, Tensor):\n",
        "            if img2.size != img1.size: img2 = img2.resize(img1.size)\n",
        "            t1,t2 = tensor(img1),tensor(img2)\n",
        "            t1,t2 = t1.permute(2,0,1),t2.permute(2,0,1)\n",
        "        else: t1,t2 = img1,img2\n",
        "        line = t1.new_zeros(t1.shape[0], t1.shape[1], 10)\n",
        "        return show_image(torch.cat([t1,line,t2], dim=2), title=similarity, ctx=ctx, **kwargs)"
      ],
      "execution_count":25,
      "outputs":[
        
      ],
      "metadata":{
        
      }
    },
    {
      "cell_type":"code",
      "source":[
        "img = PILImage.create(files[87])\n",
        "img1 = PILImage.create(files[12])\n",
        "s = SiameseImage(img, img1, False)\n",
        "s.show();"
      ],
      "execution_count":31,
      "outputs":[
        {
          "data":{
            "image\/png":"[encoded data removed]"
          },
          "metadata":{
            "image\/png":{
              
            }
          },
          "output_type":"display_data"
        }
      ],
      "metadata":{
        
      }
    },
    {
      "cell_type":"code",
      "source":[
        "tst = Resize(30)(s)\n",
        "tst = ToTensor()(tst)\n",
        "tst.show();"
      ],
      "execution_count":30,
      "outputs":[
        {
          "data":{
            "image\/png":"[encoded data removed]"
          },
          "metadata":{
            "image\/png":{
              
            }
          },
          "output_type":"display_data"
        }
      ],
      "metadata":{
        
      }
    },
    {
      "cell_type":"code",
      "source":[
        "class SiameseTransform(Transform):\n",
        "    def __init__(self, files, splits):\n",
        "        self.splbl2files = [{l: [f for f in files[splits[i]] if label_func(f) == l] for l in labels}\n",
        "                          for i in range(2)]\n",
        "        self.valid = {f: self._draw(f,1) for f in files[splits[1]]}\n",
        "    def encodes(self, f):\n",
        "        f2,same = self.valid.get(f, self._draw(f,0))\n",
        "        img1,img2 = PILImage.create(f),PILImage.create(f2)\n",
        "        return SiameseImage(img1, img2, same)\n",
        "    \n",
        "    def _draw(self, f, split=0):\n",
        "        same = random.random() < 0.5\n",
        "        cls = label_func(f)\n",
        "        if not same: cls = random.choice(L(l for l in labels if l != cls)) \n",
        "        return random.choice(self.splbl2files[split][cls]),same"
      ],
      "execution_count":28,
      "outputs":[
        
      ],
      "metadata":{
        
      }
    },
    {
      "cell_type":"code",
      "source":[
        "splits = RandomSplitter()(files)\n",
        "SiameseTransform(files, splits)"
      ],
      "execution_count":29,
      "outputs":[
        {
          "ename":"IndexError",
          "evalue":"IndexError: Cannot choose from an empty sequence",
          "traceback":[
            "\u001b[0;31m---------------------------------------------------------------------------",
            "Traceback (most recent call last)",
            "    at line 2 in <module>",
            "    at line 5 in __init__(self, files, splits)",
            "    at line 5 in <dictcomp>(.0)",
            "    at line 15 in _draw(self, f, split)",
            "IndexError: Cannot choose from an empty sequence"
          ],
          "output_type":"error"
        }
      ],
      "metadata":{
        
      }
    },
    {
      "cell_type":"code",
      "source":[
        "valids = [v[0] for k,v in tfm.valid.items()]      \n",
        "assert not [v for v in valids if v in files[splits[0]]]"
      ],
      "execution_count":65,
      "outputs":[
        {
          "ename":"NameError",
          "evalue":"NameError: name 'tfm' is not defined",
          "traceback":[
            "\u001b[0;31m---------------------------------------------------------------------------",
            "Traceback (most recent call last)",
            "    at line 1 in <module>",
            "NameError: name 'tfm' is not defined"
          ],
          "output_type":"error"
        }
      ],
      "metadata":{
        
      }
    }
  ],
  "metadata":{
    
  },
  "nbformat":4,
  "nbformat_minor":0
}