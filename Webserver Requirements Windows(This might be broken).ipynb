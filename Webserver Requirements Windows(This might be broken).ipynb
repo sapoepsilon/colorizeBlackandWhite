{
 "cells": [
  {
   "cell_type": "code",
   "execution_count": null,
   "id": "b14765c8",
   "metadata": {},
   "outputs": [],
   "source": [
    "#######_______ ONLY WORKS IN WINDOWS ENVORNMENTS WITH ANACONDA PROMPT_______########"
   ]
  },
  {
   "cell_type": "code",
   "execution_count": null,
   "id": "de35afd6",
   "metadata": {},
   "outputs": [],
   "source": [
    "!conda install python=3.7 ipython\n",
    "!conda create -n \"py37\" python=3.7\n",
    "!python -m ipykernel install --user --name py37 --display-name \"Python 3.7 Jupyter\""
   ]
  },
  {
   "cell_type": "code",
   "execution_count": null,
   "id": "ba29a6df",
   "metadata": {},
   "outputs": [],
   "source": [
    "########________ CHANGE TO NEW 'Python 3.7 Jupyter' KERNAL ________##########\n",
    "### Or run an anaconda using the 'py37' envornment\n",
    "###     - Start Anaconda prompt in administrator mode\n",
    "###     - type activate py37 into anaconda prompt"
   ]
  },
  {
   "cell_type": "code",
   "execution_count": null,
   "id": "623ca5b4",
   "metadata": {},
   "outputs": [],
   "source": [
    "!conda install -c fastchan fastai\n",
    "!conda install scikit-learn-intlex\n",
    "!conda install tensorboardX\n",
    "!pip install ffmpeg-python\n",
    "!pip install youtube-dl\n",
    "!pip install opencv-python\n",
    "!conda install pillow\n",
    "!conda install tornado\n",
    "!pip install tornado wandb\n",
    "!conda install ipywidgets\n",
    "!pip install voila\n",
    "!conda install tensorflow\n",
    "!pip install IProgress\n",
    "!pip install torch\n",
    "!pip install torchvision\n",
    "!pip install dominate\n",
    "!pip install wandb\n",
    "!conda install dill\n",
    "!conda install scikit-image\n",
    "!conda install scipy\n",
    "!pip install upload\n",
    "!pip install wget\n",
    "!pip install requests\n",
    "!pip install easydict\n",
    "!pip install anvil-uplink\n",
    "\n",
    "###For restore, not needed for Colorize###\n",
    "#dlib will not install this way, its bet to google search it\n",
    "!pip install cmake\n",
    "!pip install dlib"
   ]
  },
  {
   "cell_type": "code",
   "execution_count": null,
   "id": "96ad0379",
   "metadata": {},
   "outputs": [],
   "source": [
    "##Update make sure you have the lates versions##\n",
    "!conda update tensorboardX\n",
    "!conda update pillow\n",
    "!conda update tornado\n",
    "!conda update ipywidgets\n",
    "!conda update tensorflow\n",
    "!conda update dill\n",
    "!conda update scikit-image\n",
    "!conda update scipy"
   ]
  },
  {
   "cell_type": "code",
   "execution_count": null,
   "id": "f4713254",
   "metadata": {},
   "outputs": [],
   "source": [
    "##############________It is best to do this manually______##############\n",
    "# Because many commands/functions would be needed to added to your Path\n",
    "# for example wget is not native to Windows computers and needs to be added to the PATH to be used in CMD (So your gonna have to do that)\n",
    "# use CMD to navigate through these folders in your directory\n",
    "# the type out or copy and paste the wget and git commands into your prompt\n",
    "# cp means copy(Linux) so copy those folders to the \".\" location, \".\" means current directory\n",
    "    # So copy the \"sync_batchnorm\" folder the the directory that it tells you to, not its contents\n",
    "# 7zip can be used to unzip bzip2 files\n",
    "# Warning this does take some time to set up, but after youll never have to do it again so it ends up saving time\n",
    "\n",
    "\n",
    "\n",
    "##### For Colorize #####\n",
    "\n",
    "'''\n",
    "\n",
    "import os\n",
    "os.mkdir('Input')\n",
    "os.mkdir('Output')\n",
    "!git clone https://github.com/jantic/DeOldify.git DeOldify\n",
    "os.chdir('DeOldify')\n",
    "os.mkdir('models')\n",
    "!wget https://data.deepai.org/deoldify/ColorizeArtistic_gen.pth -O ./models/ColorizeArtistic_gen.pth\n",
    "os.chdir('..')\n",
    "!git clone https://github.com/microsoft/Bringing-Old-Photos-Back-to-Life.git photo_restoration\n",
    "\n",
    "'''\n",
    "\n",
    "###### For Restore, Not needed for Colorize ######\n",
    "\n",
    "'''\n",
    "\n",
    "# pull the syncBN repo\n",
    "os.chdir('photo_restoration/Face_Enhancement/models/networks') \n",
    "!git clone https://github.com/vacancy/Synchronized-BatchNorm-PyTorch\n",
    "!cp -rf Synchronized-BatchNorm-PyTorch/sync_batchnorm .\n",
    "os.chdir('../../../')\n",
    "\n",
    "os.chdir('Global/detection_models')\n",
    "!git clone https://github.com/vacancy/Synchronized-BatchNorm-PyTorch\n",
    "!cp -rf Synchronized-BatchNorm-PyTorch/sync_batchnorm .\n",
    "os.chdir('../../')\n",
    "\n",
    "# download the landmark detection model\n",
    "os.chdir('Face_Detection')\n",
    "!wget http://dlib.net/files/shape_predictor_68_face_landmarks.dat.bz2\n",
    "!bzip2 -d shape_predictor_68_face_landmarks.dat.bz2\n",
    "os.chdir('../')\n",
    "\n",
    "# download the pretrained model\n",
    "os.chdir('Face_Enhancement')\n",
    "!wget https://facevc.blob.core.windows.net/zhanbo/old_photo/pretrain/Face_Enhancement/checkpoints.zip\n",
    "!unzip checkpoints.zip\n",
    "os.chdir('../')\n",
    "\n",
    "os.chdir('Global')\n",
    "!wget https://facevc.blob.core.windows.net/zhanbo/old_photo/pretrain/Global/checkpoints.zip\n",
    "!unzip checkpoints.zip\n",
    "os.chdir('../')\n",
    "\n",
    "'''"
   ]
  }
 ],
 "metadata": {
  "kernelspec": {
   "display_name": "Python 3 (ipykernel)",
   "language": "python",
   "name": "python3"
  },
  "language_info": {
   "codemirror_mode": {
    "name": "ipython",
    "version": 3
   },
   "file_extension": ".py",
   "mimetype": "text/x-python",
   "name": "python",
   "nbconvert_exporter": "python",
   "pygments_lexer": "ipython3",
   "version": "3.9.7"
  }
 },
 "nbformat": 4,
 "nbformat_minor": 5
}
