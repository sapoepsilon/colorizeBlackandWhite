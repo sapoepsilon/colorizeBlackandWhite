{
 "cells": [
  {
   "cell_type": "code",
   "execution_count": null,
   "id": "c1790b2d",
   "metadata": {},
   "outputs": [],
   "source": [
    "#######_______ ONLY WORKS IN WINDOWS ENVORNMENTS WITH ANACONDA PROMPT_______########"
   ]
  },
  {
   "cell_type": "code",
   "execution_count": null,
   "id": "4c592434",
   "metadata": {},
   "outputs": [],
   "source": [
    "\n",
    "!conda install python=3.7 ipython\n",
    "!conda create -n \"py37\" python=3.7\n",
    "!python -m ipykernel install --user --name py37 --display-name \"Python 3.7 Jupyter\""
   ]
  },
  {
   "cell_type": "code",
   "execution_count": null,
   "id": "e6440c2d",
   "metadata": {},
   "outputs": [],
   "source": [
    "########________ CHANGE TO NEW KERNAL ________##########"
   ]
  },
  {
   "cell_type": "code",
   "execution_count": null,
   "id": "9d461253",
   "metadata": {},
   "outputs": [],
   "source": [
    "!conda install fastai\n",
    "!conda install tensorboardX\n",
    "!pip install ffmpeg-python\n",
    "!conda install youtube-dl\n",
    "!conda install opencv-python\n",
    "!conda install pillow\n",
    "!conda install tornado\n",
    "!conda install tornado wandb\n",
    "!conda install ipywidgets\n",
    "!conda install voila\n",
    "!conda install tensorflow\n",
    "!conda install IProgress\n",
    "!conda install torch\n",
    "!conda install torchvision\n",
    "!conda install dominate\n",
    "!conda install wandb\n",
    "!conda install dill\n",
    "!conda install scikit-image\n",
    "!conda install tensorboardX\n",
    "!conda install scipy\n",
    "!conda install opencv-python\n",
    "!pip install upload\n",
    "!pip install wget\n",
    "!pip install requests\n",
    "!pip install easydict\n",
    "!pip install cmake\n",
    "!pip install dlib"
   ]
  },
  {
   "cell_type": "code",
   "execution_count": null,
   "id": "fc1c6b96",
   "metadata": {},
   "outputs": [],
   "source": [
    "!conda update fastai\n",
    "!conda update tensorboardX\n",
    "!conda update youtube-dl\n",
    "!conda update opencv-python\n",
    "!conda update pillow\n",
    "!conda update tornado\n",
    "!conda update tornado wandb\n",
    "!conda update ipywidgets\n",
    "!conda update voila\n",
    "!conda update tensorflow\n",
    "!conda update IProgress\n",
    "!conda update torch\n",
    "!conda update torchvision\n",
    "!conda update dominate\n",
    "!conda update wandb\n",
    "!conda update dill\n",
    "!conda update scikit-image\n",
    "!conda update scipy\n",
    "!conda update opencv-python"
   ]
  },
  {
   "cell_type": "code",
   "execution_count": null,
   "id": "0449c7e1",
   "metadata": {},
   "outputs": [],
   "source": [
    "##############________It is best to do this manually______##############\n",
    "# Because many commands/functions would be needed to added to your Path\n",
    "# for example wget is not native to Windows computers and needs to be added to the PATH to be used in CMD (So your gonna have to do that)\n",
    "# use CMD to navigate through these folders in your directory\n",
    "# the type out or copy and paste the wget and git commands into your prompt\n",
    "# cp means copy(Linux) so copy those folders to the \".\" location, \".\" means current directory\n",
    "    # So copy the \"sync_batchnorm\" folder the the directory that it tells you to, not its contents\n",
    "# 7zip can be used to unzip bzip2 files\n",
    "# Warning this does take some time to set up, but after youll never have to do it again so it ends up saving time\n",
    "\n",
    "'''\n",
    "\n",
    "import os\n",
    "os.mkdir('Input')\n",
    "os.mkdir('Output')\n",
    "!git clone https://github.com/jantic/DeOldify.git DeOldify\n",
    "os.chdir('DeOldify')\n",
    "os.mkdir('models')\n",
    "!wget https://data.deepai.org/deoldify/ColorizeArtistic_gen.pth -O ./models/ColorizeArtistic_gen.pth\n",
    "os.chdir('..')\n",
    "!git clone https://github.com/microsoft/Bringing-Old-Photos-Back-to-Life.git photo_restoration\n",
    "\n",
    "# pull the syncBN repo\n",
    "os.chdir('photo_restoration/Face_Enhancement/models/networks') \n",
    "!git clone https://github.com/vacancy/Synchronized-BatchNorm-PyTorch\n",
    "!cp -rf Synchronized-BatchNorm-PyTorch/sync_batchnorm .\n",
    "os.chdir('../../../')\n",
    "\n",
    "os.chdir('Global/detection_models')\n",
    "!git clone https://github.com/vacancy/Synchronized-BatchNorm-PyTorch\n",
    "!cp -rf Synchronized-BatchNorm-PyTorch/sync_batchnorm .\n",
    "os.chdir('../../')\n",
    "\n",
    "# download the landmark detection model\n",
    "os.chdir('Face_Detection')\n",
    "!wget http://dlib.net/files/shape_predictor_68_face_landmarks.dat.bz2\n",
    "!bzip2 -d shape_predictor_68_face_landmarks.dat.bz2\n",
    "os.chdir('../')\n",
    "\n",
    "# download the pretrained model\n",
    "os.chdir('Face_Enhancement')\n",
    "!wget https://facevc.blob.core.windows.net/zhanbo/old_photo/pretrain/Face_Enhancement/checkpoints.zip\n",
    "!unzip checkpoints.zip\n",
    "os.chdir('../')\n",
    "\n",
    "os.chdir('Global')\n",
    "!wget https://facevc.blob.core.windows.net/zhanbo/old_photo/pretrain/Global/checkpoints.zip\n",
    "!unzip checkpoints.zip\n",
    "os.chdir('../')\n",
    "\n",
    "'''"
   ]
  }
 ],
 "metadata": {
  "kernelspec": {
   "display_name": "Python 3.7 Jupyter",
   "language": "python",
   "name": "3.7jupyter"
  },
  "language_info": {
   "codemirror_mode": {
    "name": "ipython",
    "version": 3
   },
   "file_extension": ".py",
   "mimetype": "text/x-python",
   "name": "python",
   "nbconvert_exporter": "python",
   "pygments_lexer": "ipython3",
   "version": "3.8.12"
  }
 },
 "nbformat": 4,
 "nbformat_minor": 5
}
