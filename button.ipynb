{
  "nbformat": 4,
  "nbformat_minor": 0,
  "metadata": {
    "accelerator": "GPU",
    "colab": {
      "name": "Untitled1.ipynb",
      "provenance": [],
      "collapsed_sections": [],
      "authorship_tag": "ABX9TyNH84Kv9AfcTPcTNuXnzdDS",
      "include_colab_link": true
    },
    "kernelspec": {
      "display_name": "Python 3",
      "name": "python3"
    },
    "language_info": {
      "name": "python"
    }
  },
  "cells": [
    {
      "cell_type": "markdown",
      "metadata": {
        "id": "view-in-github",
        "colab_type": "text"
      },
      "source": [
        "<a href=\"https://colab.research.google.com/github/sapoepsilon/colorizeBlackandWhite/blob/main/button.ipynb\" target=\"_parent\"><img src=\"https://colab.research.google.com/assets/colab-badge.svg\" alt=\"Open In Colab\"/></a>"
      ]
    },
    {
      "cell_type": "code",
      "metadata": {
        "id": "wh9V6_G_mUw5"
      },
      "source": [
        "!git clone https://github.com/jantic/DeOldify.git DeOldify "
      ],
      "execution_count": null,
      "outputs": []
    },
    {
      "cell_type": "code",
      "metadata": {
        "id": "cIka3sdWmWa2"
      },
      "source": [
        "cd DeOldify"
      ],
      "execution_count": null,
      "outputs": []
    },
    {
      "cell_type": "code",
      "metadata": {
        "id": "piXrzZt1mboQ"
      },
      "source": [
        "#NOTE:  This must be the first call in order to work properly!\n",
        "from deoldify import device\n",
        "from deoldify.device_id import DeviceId\n",
        "#choices:  CPU, GPU0...GPU7\n",
        "device.set(device=DeviceId.GPU0)\n",
        "\n",
        "import torch\n",
        "\n",
        "if not torch.cuda.is_available():\n",
        "    print('GPU not available.')"
      ],
      "execution_count": null,
      "outputs": []
    },
    {
      "cell_type": "code",
      "metadata": {
        "id": "OwHV441-tfrY"
      },
      "source": [
        "!pip install voila"
      ],
      "execution_count": null,
      "outputs": []
    },
    {
      "cell_type": "code",
      "metadata": {
        "id": "GXlhoAR6mqlB"
      },
      "source": [
        "!pip install -r colab_requirements.txt"
      ],
      "execution_count": null,
      "outputs": []
    },
    {
      "cell_type": "code",
      "metadata": {
        "id": "J_xa2_d8m2nV"
      },
      "source": [
        "import fastai\n",
        "from deoldify.visualize import *\n",
        "\n",
        "torch.backends.cudnn.benchmark = True"
      ],
      "execution_count": null,
      "outputs": []
    },
    {
      "cell_type": "code",
      "metadata": {
        "id": "mgsnYhxsm8GJ"
      },
      "source": [
        "!mkdir 'models'\n",
        "!wget https://www.dropbox.com/s/usf7uifrctqw9rl/ColorizeStable_gen.pth?dl=0 -O ./models/ColorizeStable_gen.pth"
      ],
      "execution_count": null,
      "outputs": []
    },
    {
      "cell_type": "code",
      "metadata": {
        "id": "oIOaGerJm-kd"
      },
      "source": [
        "!wget https://media.githubusercontent.com/media/jantic/DeOldify/master/resource_images/watermark.png -O ./resource_images/watermark.png"
      ],
      "execution_count": null,
      "outputs": []
    },
    {
      "cell_type": "code",
      "metadata": {
        "id": "Y708nGYfIs2A"
      },
      "source": [
        "import ipywidgets as widgets\n",
        "from __future__ import print_function\n",
        "from ipywidgets import interact, interactive, fixed, interact_manual\n",
        "import ipywidgets as widgets"
      ],
      "execution_count": null,
      "outputs": []
    },
    {
      "cell_type": "code",
      "metadata": {
        "id": "13IzBq72KE6X"
      },
      "source": [
        "colorizer = get_image_colorizer(artistic=False)"
      ],
      "execution_count": null,
      "outputs": []
    },
    {
      "cell_type": "code",
      "metadata": {
        "id": "n0R16Vq78twO"
      },
      "source": [
        "grand = widgets.IntSlider(min=7,max=49)\n",
        "name = widgets.Text(placeholder='Please put url here: ')\n",
        "file = widgets.FileUpload(\n",
        "    accept='',  # Accepted file extension e.g. '.txt', '.pdf', 'image/*', 'image/*,.pdf'\n",
        "    multiple=False  # True to accept multiple files upload else False\n",
        ")\n",
        "button = widgets.Button(description='Colorize',\n",
        "    tooltip='Click me',\n",
        "    icon='check' # (FontAwesome names without the `fa-` prefix)\n",
        "    )\n",
        "uploader = widgets.FileUpload()\n",
        "\n",
        "\n",
        "\n",
        "def colorizer_func (source_url, render_factor):\n",
        "      isOnce = True\n",
        "      if isOnce:\n",
        "        image_path = colorizer.plot_transformed_image_from_url(url=source_url, render_factor=render_factor, compare=True, watermarked=True)\n",
        "        show_image_in_notebook(image_path)\n",
        "        isOnce = False\n",
        "\n",
        "\n"
      ],
      "execution_count": null,
      "outputs": []
    },
    {
      "cell_type": "code",
      "metadata": {
        "id": "LB5fWOLM8zkX"
      },
      "source": [
        "# DISPLAY BUTTON  \n",
        "\n",
        "out = widgets.Output()\n",
        "\n",
        "def on_button_clicked(event):\n",
        "  with out:\n",
        "     if name.value is not None and name.value !='':\n",
        "       colorizer_func(name.value, grand.value)\n",
        "     else:\n",
        "       print('Provide an image url and try again.')\n",
        "\n",
        "button.on_click(on_button_clicked)\n",
        "text = widgets.HTML(value=\"Please provide text to colorize picture: \")\n",
        "left_box = widgets.VBox([text, name])\n",
        "renderText = widgets.HTML(value=\"Please select the render factor: \")\n",
        "second_row = widgets.VBox([renderText, grand])\n",
        "vbox_result = widgets.VBox([left_box, second_row, button, out])\n",
        "vbox_result\n",
        "\n",
        "# linking button and function together using a button's method\n",
        "# displaying button and its output together\n"
      ],
      "execution_count": null,
      "outputs": []
    },
    {
      "cell_type": "code",
      "metadata": {
        "id": "rPUplPckRP7W"
      },
      "source": [
        "pip install streamlit"
      ],
      "execution_count": null,
      "outputs": []
    },
    {
      "cell_type": "code",
      "metadata": {
        "id": "aJUEnkcIdjCg"
      },
      "source": [
        "!wget https://bin.equinox.io/c/4VmDzA7iaHb/ngrok-stable-linux-amd64.zip"
      ],
      "execution_count": null,
      "outputs": []
    },
    {
      "cell_type": "code",
      "metadata": {
        "id": "nCoeKLj3d2ea"
      },
      "source": [
        "!unzip ngrok-stable-linux-amd64.zip"
      ],
      "execution_count": null,
      "outputs": []
    },
    {
      "cell_type": "code",
      "metadata": {
        "id": "Y_41N6aTd3nW"
      },
      "source": [
        "get_ipython().system_raw('./ngrok http 8501 &')"
      ],
      "execution_count": null,
      "outputs": []
    },
    {
      "cell_type": "code",
      "metadata": {
        "id": "X1x9b9hed8GH"
      },
      "source": [
        "!curl -s http://localhost:4040/api/tunnels | python3 -c \\\n"
      ],
      "execution_count": null,
      "outputs": []
    },
    {
      "cell_type": "code",
      "metadata": {
        "id": "Sbc1k1Nxe06A"
      },
      "source": [
        ""
      ],
      "execution_count": null,
      "outputs": []
    },
    {
      "cell_type": "code",
      "metadata": {
        "id": "_tIz7EiyeEi1"
      },
      "source": [
        "cd DeOldify/"
      ],
      "execution_count": null,
      "outputs": []
    },
    {
      "cell_type": "code",
      "metadata": {
        "colab": {
          "base_uri": "https://localhost:8080/"
        },
        "id": "_d1Yegmze1f0",
        "outputId": "3ad9976f-2d13-419c-9856-0d43bd4e3df6"
      },
      "source": [
        "!streamlit run /content/DeOldify/untitled1.py"
      ],
      "execution_count": null,
      "outputs": [
        {
          "metadata": {
            "tags": null
          },
          "name": "stdout",
          "output_type": "stream",
          "text": [
            "\u001b[0m\n",
            "\u001b[34m\u001b[1m  You can now view your Streamlit app in your browser.\u001b[0m\n",
            "\u001b[0m\n",
            "\u001b[34m  Network URL: \u001b[0m\u001b[1mhttp://172.28.0.2:8501\u001b[0m\n",
            "\u001b[34m  External URL: \u001b[0m\u001b[1mhttp://34.69.190.24:8501\u001b[0m\n",
            "\u001b[0m\n"
          ]
        }
      ]
    }
  ]
}