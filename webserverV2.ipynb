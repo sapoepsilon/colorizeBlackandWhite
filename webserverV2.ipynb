{
 "cells": [
  {
   "cell_type": "code",
   "execution_count": 1,
   "id": "d9b840ac",
   "metadata": {},
   "outputs": [
    {
     "name": "stdout",
     "output_type": "stream",
     "text": [
      "C:\\Users\\chunk\\Jupyter Projects\\colorizeBlackandWhite\n",
      "C:\\Users\\chunk\\Jupyter Projects\\colorizeBlackandWhite\\Input\n"
     ]
    }
   ],
   "source": [
    "import os\n",
    "#os.chdir('..')\n",
    "input_folder = \"Input\"\n",
    "output_folder = \"Output\"\n",
    "basepath = os.getcwd()\n",
    "input_path = os.path.join(basepath, input_folder)\n",
    "output_path = os.path.join(basepath, output_folder)\n",
    "image_input = input_path + '\\\\'\n",
    "image_output = output_path + '\\\\'\n",
    "print(basepath)\n",
    "print(input_path)"
   ]
  },
  {
   "cell_type": "code",
   "execution_count": 2,
   "id": "f72b97e0",
   "metadata": {
    "scrolled": true
   },
   "outputs": [],
   "source": [
    "os.chdir(basepath)\n",
    "os.chdir('DeOldify')"
   ]
  },
  {
   "cell_type": "code",
   "execution_count": 3,
   "id": "ed1e18fb",
   "metadata": {},
   "outputs": [],
   "source": [
    "#HIDE\n",
    "import io\n",
    "import PIL\n",
    "from PIL import Image\n",
    "from deoldify import device\n",
    "from deoldify.device_id import DeviceId\n",
    "import ipywidgets as widgets\n",
    "from ipywidgets import interact, interactive, fixed, interact_manual\n",
    "import requests\n",
    "import torch\n",
    "import shutil\n",
    "\n",
    "device.set(device=DeviceId.GPU0)\n",
    "if not torch.cuda.is_available():\n",
    "    print('GPU not available.')"
   ]
  },
  {
   "cell_type": "code",
   "execution_count": 4,
   "id": "8a19b5fb",
   "metadata": {
    "scrolled": true
   },
   "outputs": [],
   "source": [
    "#HIDE\n",
    "\n",
    "import fastai\n",
    "from deoldify.visualize import *\n",
    "import warnings\n",
    "warnings.filterwarnings(\"ignore\", category=UserWarning, message=\".*?Your .*? set is empty.*?\")"
   ]
  },
  {
   "cell_type": "code",
   "execution_count": 5,
   "id": "ce894a96",
   "metadata": {
    "scrolled": true
   },
   "outputs": [],
   "source": [
    "#HIDE\n",
    "\n",
    "colorizer = get_image_colorizer(artistic=True)"
   ]
  },
  {
   "cell_type": "code",
   "execution_count": 16,
   "id": "1491f892",
   "metadata": {},
   "outputs": [],
   "source": [
    "#HIDE\n",
    "grand = widgets.IntSlider(min=15,max=39)\n",
    "\n",
    "url_pic = widgets.Text(placeholder='Please put url here: ')\n",
    "\n",
    "file = widgets.FileUpload(\n",
    "    accept='',  # Accepted file extension e.g. '.txt', '.pdf', 'image/*', 'image/*,.pdf'\n",
    "    multiple=False  # True to accept multiple files upload else False\n",
    ")\n",
    "\n",
    "\n",
    "button = widgets.Button(description='Colorize',\n",
    "    tooltip='Click me',\n",
    "    icon='check' # (FontAwesome names without the `fa-` prefix)\n",
    "    )\n",
    "\n",
    "\n",
    "uploader = widgets.FileUpload(\n",
    "    accept='image/*',  # Accepted file extension e.g. '.txt', '.pdf', 'image/*', 'image/*,.pdf'\n",
    "    multiple=True  # True to accept multiple files upload else False\n",
    ")\n",
    "\n",
    "\n",
    "restoreBox = widgets.Checkbox(\n",
    "    value=False,\n",
    "    description='Restore',\n",
    "    disabled=False,\n",
    "    indent=False\n",
    ")\n",
    "\n",
    "\n",
    "def clear_input_folder():\n",
    "    os.chdir(input_path)\n",
    "    file_list = os.listdir()\n",
    "    for image in file_list:\n",
    "        try:\n",
    "            os.remove(image)\n",
    "        except:\n",
    "            os.rmdir(image)\n",
    "    os.chdir(basepath)"
   ]
  },
  {
   "cell_type": "code",
   "execution_count": 17,
   "id": "da0e4209",
   "metadata": {
    "scrolled": true
   },
   "outputs": [
    {
     "data": {
      "application/vnd.jupyter.widget-view+json": {
       "model_id": "35007ea2c3d44a48a7f27bd88811d12f",
       "version_major": 2,
       "version_minor": 0
      },
      "text/plain": [
       "VBox(children=(VBox(children=(HTML(value='Please provide text to colorize picture: '), Text(value='', placehol…"
      ]
     },
     "metadata": {},
     "output_type": "display_data"
    }
   ],
   "source": [
    "# DISPLAY BUTTON  \n",
    "\n",
    "out = widgets.Output()\n",
    "\n",
    "def file_upload():\n",
    "    os.chdir(input_path)\n",
    "    for name, file_info in uploader.value.items():\n",
    "        picture = Image.open(io.BytesIO(file_info['content']))\n",
    "        picture = picture.save(name)\n",
    "    os.chdir(basepath)\n",
    "    \n",
    "    \n",
    "def image_colorise():\n",
    "    os.chdir(input_path)\n",
    "    for name, file_info in uploader.value.items():\n",
    "        picture = Image.open(io.BytesIO(file_info['content']))\n",
    "        picture = picture.save(name)\n",
    "    images = os.listdir()\n",
    "    os.chdir(output_path)\n",
    "    for image in images:\n",
    "        p = image_input + image\n",
    "        os.chdir(basepath+'\\\\DeOldify')\n",
    "        image_path = colorizer.plot_transformed_image(path=p, render_factor=grand.value, compare=True, watermarked=False)\n",
    "        show_image_in_notebook(image_path)\n",
    "        picture = Image.open(image_path)\n",
    "        os.chdir(output_path)\n",
    "        picture = picture.save('COLORIZED_' + image)\n",
    "    clear_input_folder()\n",
    "    os.chdir(basepath)\n",
    "    \n",
    "    \n",
    "    \n",
    "def get_image_from_url():\n",
    "    os.chdir(input_path)\n",
    "    with open('URL_image.jpg', 'wb') as handle:\n",
    "        response = requests.get(url_pic.value, stream=True)\n",
    "\n",
    "        if not response.ok:\n",
    "            print(response)\n",
    "\n",
    "        for block in response.iter_content(1024):\n",
    "            if not block:\n",
    "                break\n",
    "\n",
    "            handle.write(block)\n",
    "    os.chdir(basepath)\n",
    "    \n",
    "    \n",
    "    \n",
    "def restore():\n",
    "    os.chdir(basepath)\n",
    "    upload_path = input_path\n",
    "    upload_output_path = input_path\n",
    "    \n",
    "    os.chdir(input_path)\n",
    "    uploaded = os.listdir()\n",
    "    os.chdir(basepath)\n",
    "    os.chdir('color_restoration')\n",
    "    \n",
    "    for filename in uploaded:\n",
    "        shutil.move(os.path.join(basepath, filename), os.path.join(upload_path, filename))\n",
    "    \n",
    "    !python run.py --input_folder ..\\Input --output_folder ..\\Output --GPU 0 --with_scratch --HR\n",
    "    os.chdir(basepath)\n",
    "    \n",
    "def import_detection():\n",
    "    if url_pic.value != '':\n",
    "        get_image_from_url()\n",
    "        image_colorise()\n",
    "    elif uploader.value.items() is not None:\n",
    "        file_upload()\n",
    "        image_colorise()\n",
    "    else:\n",
    "        print('No images found.')\n",
    "\n",
    "def restore_detection(event):\n",
    "    if restoreBox.value is True:\n",
    "        restore()\n",
    "        import_detection()\n",
    "    else:\n",
    "        import_detection()\n",
    "        \n",
    "button.on_click(restore_detection)\n",
    "text = widgets.HTML(value=\"Please provide text to colorize picture: \")\n",
    "left_box = widgets.VBox([text, url_pic])\n",
    "ortext = widgets.HTML(value=\"-OR-\")\n",
    "uploadtext = widgets.HTML(value=\"Upload Image File:\")\n",
    "second_row = widgets.VBox([ortext, uploadtext, uploader])\n",
    "renderText = widgets.HTML(value=\"Please select the render factor: \")\n",
    "third_row = widgets.VBox([renderText, grand])\n",
    "restoreText = widgets.HTML(value=\"Restore Image: (May cause undesirable effect)\")\n",
    "fourth_row = widgets.VBox([restoreText, restoreBox])\n",
    "vbox_result = widgets.VBox([left_box, second_row, third_row, fourth_row, button, out])\n",
    "vbox_result\n",
    "\n",
    "\n",
    "# linking button and function together using a button's method\n",
    "# displaying button and its output together"
   ]
  },
  {
   "cell_type": "code",
   "execution_count": null,
   "id": "13448694",
   "metadata": {},
   "outputs": [],
   "source": []
  }
 ],
 "metadata": {
  "kernelspec": {
   "display_name": "Python 3.7 Jupyter",
   "language": "python",
   "name": "3.7jupyter"
  },
  "language_info": {
   "codemirror_mode": {
    "name": "ipython",
    "version": 3
   },
   "file_extension": ".py",
   "mimetype": "text/x-python",
   "name": "python",
   "nbconvert_exporter": "python",
   "pygments_lexer": "ipython3",
   "version": "3.8.12"
  }
 },
 "nbformat": 4,
 "nbformat_minor": 5
}
